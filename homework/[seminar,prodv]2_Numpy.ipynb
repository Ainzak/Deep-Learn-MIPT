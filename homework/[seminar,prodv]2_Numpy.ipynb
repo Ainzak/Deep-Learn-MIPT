{
  "nbformat": 4,
  "nbformat_minor": 0,
  "metadata": {
    "colab": {
      "provenance": []
    },
    "hide_input": false,
    "kernelspec": {
      "display_name": "Python 3",
      "language": "python",
      "name": "python3"
    },
    "language_info": {
      "codemirror_mode": {
        "name": "ipython",
        "version": 3
      },
      "file_extension": ".py",
      "mimetype": "text/x-python",
      "name": "python",
      "nbconvert_exporter": "python",
      "pygments_lexer": "ipython3",
      "version": "3.6.8"
    },
    "varInspector": {
      "cols": {
        "lenName": 16,
        "lenType": 16,
        "lenVar": 40
      },
      "kernels_config": {
        "python": {
          "delete_cmd_postfix": "",
          "delete_cmd_prefix": "del ",
          "library": "var_list.py",
          "varRefreshCmd": "print(var_dic_list())"
        },
        "r": {
          "delete_cmd_postfix": ") ",
          "delete_cmd_prefix": "rm(",
          "library": "var_list.r",
          "varRefreshCmd": "cat(var_dic_list()) "
        }
      },
      "types_to_exclude": [
        "module",
        "function",
        "builtin_function_or_method",
        "instance",
        "_Feature"
      ],
      "window_display": false
    }
  },
  "cells": [
    {
      "cell_type": "markdown",
      "metadata": {
        "id": "LYCbBYAoK01P"
      },
      "source": [
        "<p style=\"align: center;\"><img align=center src=\"https://s8.hostingkartinok.com/uploads/images/2018/08/308b49fcfbc619d629fe4604bceb67ac.jpg\" width=500 height=450/></p>\n",
        "\n",
        "<h3 style=\"text-align: center;\"><b>Физтех-Школа Прикладной математики и информатики (ФПМИ) МФТИ</b></h3>\n"
      ]
    },
    {
      "cell_type": "markdown",
      "metadata": {
        "id": "WCndMFM25mhM"
      },
      "source": [
        "---"
      ]
    },
    {
      "cell_type": "markdown",
      "metadata": {
        "id": "Jv3wM2EJK01Q"
      },
      "source": [
        "<h2 style=\"text-align: center;\"><b>Python. Занятие 2: Numpy, Scipy</b></h2>"
      ]
    },
    {
      "cell_type": "markdown",
      "metadata": {
        "id": "ZFb530GdK01R"
      },
      "source": [
        "<img align=left src=\"https://cdn.fedoramagazine.org/wp-content/uploads/2015/11/Python_logo.png\" width=400 height=250/>\n",
        "\n",
        "<img src=\"https://steemit-production-imageproxy-thumbnail.s3.amazonaws.com/DQmPzrCtkniAypHNkuGgEdqcmzzCxD6xCYKD7uFNDyZQLTv_1680x8400\" width=400 height=200 />"
      ]
    },
    {
      "cell_type": "markdown",
      "metadata": {
        "id": "6FcX8uOqK01S"
      },
      "source": [
        "#### При подготовке ноутбука использовался сайт: http://www.inp.nsk.su/~grozin/python/"
      ]
    },
    {
      "cell_type": "markdown",
      "metadata": {
        "id": "GB_0NqPUK01T"
      },
      "source": [
        "---"
      ]
    },
    {
      "cell_type": "markdown",
      "metadata": {
        "id": "kBGnvjStK01T"
      },
      "source": [
        "## Библиотека NumPy"
      ]
    },
    {
      "cell_type": "markdown",
      "metadata": {
        "id": "Iug83l7wK01U"
      },
      "source": [
        "Пакет **`NumPy`** предоставляет $n$-мерные однородные массивы (все элементы одного типа); в них нельзя вставить или удалить элемент в произвольном месте. В `numpy` реализовано много операций над массивами в целом. Если задачу можно решить, произведя некоторую последовательность операций над массивами, то это будет столь же эффективно, как в `C` или `matlab`, поскольку функции этой библиотеки реализованы на C, и мы просто вызываем из из питона."
      ]
    },
    {
      "cell_type": "code",
      "metadata": {
        "id": "zB8-qzXEK01V"
      },
      "source": [
        "# стандартное название для импорта numpy - np\n",
        "import numpy as np\n",
        "import math"
      ],
      "execution_count": 6,
      "outputs": []
    },
    {
      "cell_type": "code",
      "metadata": {
        "id": "2_IOYl5-K01Y"
      },
      "source": [
        "# from numpy import *\n",
        "# как и влюбом другом языке и библиотке, так делать нельзя. Вы очень быстро запутаетесь в функциях из numpy\n",
        "# и запутаете всех, кто читает ваш код"
      ],
      "execution_count": null,
      "outputs": []
    },
    {
      "cell_type": "markdown",
      "metadata": {
        "id": "f6y8_ITBK01Y"
      },
      "source": [
        "## Векторы и матрицы в numpy"
      ]
    },
    {
      "cell_type": "markdown",
      "metadata": {
        "id": "3k5eaQgGHLJD"
      },
      "source": [
        "* **Одномерные массивы**. Я предполагаю, что почти все знают про обычные массивы и про операции над ними. Они выглядят следующим образом:"
      ]
    },
    {
      "cell_type": "code",
      "metadata": {
        "id": "A8y4lFcdHLJD",
        "outputId": "1e520d53-013f-4979-f9eb-b3677a96fc32",
        "colab": {
          "base_uri": "https://localhost:8080/",
          "height": 34
        }
      },
      "source": [
        "x = [3, 4, 1]\n",
        "print(x)"
      ],
      "execution_count": null,
      "outputs": [
        {
          "output_type": "stream",
          "text": [
            "[3, 4, 1]\n"
          ],
          "name": "stdout"
        }
      ]
    },
    {
      "cell_type": "markdown",
      "metadata": {
        "id": "dHYKof4KK01b"
      },
      "source": [
        "Давайте преобразуем наш массив в __numpy__ массив:"
      ]
    },
    {
      "cell_type": "code",
      "metadata": {
        "id": "rffXuWJaK01c",
        "outputId": "d93f7cf1-acf2-4ce4-bacb-d1dd1e5d3ab2",
        "colab": {
          "base_uri": "https://localhost:8080/",
          "height": 34
        }
      },
      "source": [
        "a = np.array(x)\n",
        "print(a, type(a))"
      ],
      "execution_count": null,
      "outputs": [
        {
          "output_type": "stream",
          "text": [
            "[3 4 1] <class 'numpy.ndarray'>\n"
          ],
          "name": "stdout"
        }
      ]
    },
    {
      "cell_type": "markdown",
      "metadata": {
        "id": "iLQtJmH0K01g"
      },
      "source": [
        "`print` печатает массивы в удобной форме."
      ]
    },
    {
      "cell_type": "code",
      "metadata": {
        "id": "QGFfGuPtK01h",
        "outputId": "4aed6bf1-46b7-4794-88cc-de85641dfed4",
        "colab": {
          "base_uri": "https://localhost:8080/",
          "height": 34
        }
      },
      "source": [
        "print(a/89)"
      ],
      "execution_count": null,
      "outputs": [
        {
          "output_type": "stream",
          "text": [
            "[0.03370787 0.04494382 0.01123596]\n"
          ],
          "name": "stdout"
        }
      ]
    },
    {
      "cell_type": "markdown",
      "metadata": {
        "id": "Kxxjms2DaSBX"
      },
      "source": [
        "* **Многомерные массивы**"
      ]
    },
    {
      "cell_type": "code",
      "metadata": {
        "id": "9J22jldfaSBZ",
        "outputId": "671e51e6-ca95-45b2-a487-eea3c31d8f91",
        "colab": {
          "base_uri": "https://localhost:8080/",
          "height": 34
        }
      },
      "source": [
        "# Простая матричка\n",
        "x = [[3, 4, 1],\n",
        "     [1, 2, 3]]\n",
        "print(x)"
      ],
      "execution_count": null,
      "outputs": [
        {
          "output_type": "stream",
          "text": [
            "[[3, 4, 1], [1, 2, 3]]\n"
          ],
          "name": "stdout"
        }
      ]
    },
    {
      "cell_type": "code",
      "metadata": {
        "id": "wvbw-zhdaSBe",
        "outputId": "e6ad109e-24be-4f47-df59-f243b629e1d1",
        "colab": {
          "base_uri": "https://localhost:8080/",
          "height": 51
        }
      },
      "source": [
        "a = np.array(x)\n",
        "print(a)"
      ],
      "execution_count": null,
      "outputs": [
        {
          "output_type": "stream",
          "text": [
            "[[3 4 1]\n",
            " [1 2 3]]\n"
          ],
          "name": "stdout"
        }
      ]
    },
    {
      "cell_type": "code",
      "metadata": {
        "scrolled": true,
        "id": "GPeALYOLaSBi",
        "outputId": "538e2254-4f4a-4bee-a195-42cab95373c1",
        "colab": {
          "base_uri": "https://localhost:8080/",
          "height": 215
        }
      },
      "source": [
        "# Реально многомерный массив\n",
        "x = [\n",
        "        [ [1, 2, 3], [4, 5, 6]],\n",
        "        [ [7, 8, 9], [10, 11, 12]]\n",
        "    ]\n",
        "print(x)"
      ],
      "execution_count": null,
      "outputs": [
        {
          "output_type": "stream",
          "text": [
            "[[[1, 2, 3], [4, 5, 6]], [[7, 8, 9], [10, 11, 12]]]\n"
          ],
          "name": "stdout"
        },
        {
          "output_type": "error",
          "ename": "AttributeError",
          "evalue": "ignored",
          "traceback": [
            "\u001b[0;31m---------------------------------------------------------------------------\u001b[0m",
            "\u001b[0;31mAttributeError\u001b[0m                            Traceback (most recent call last)",
            "\u001b[0;32m<ipython-input-11-50376abe03dd>\u001b[0m in \u001b[0;36m<module>\u001b[0;34m()\u001b[0m\n\u001b[1;32m      4\u001b[0m     ]\n\u001b[1;32m      5\u001b[0m \u001b[0mprint\u001b[0m\u001b[0;34m(\u001b[0m\u001b[0mx\u001b[0m\u001b[0;34m)\u001b[0m\u001b[0;34m\u001b[0m\u001b[0;34m\u001b[0m\u001b[0m\n\u001b[0;32m----> 6\u001b[0;31m \u001b[0mprint\u001b[0m\u001b[0;34m(\u001b[0m\u001b[0mx\u001b[0m\u001b[0;34m.\u001b[0m\u001b[0mshape\u001b[0m\u001b[0;34m)\u001b[0m\u001b[0;34m\u001b[0m\u001b[0;34m\u001b[0m\u001b[0m\n\u001b[0m",
            "\u001b[0;31mAttributeError\u001b[0m: 'list' object has no attribute 'shape'"
          ]
        }
      ]
    },
    {
      "cell_type": "code",
      "metadata": {
        "id": "-SeTuAAjaSBl",
        "outputId": "e2b479c5-f387-4633-a21b-e4dd77c6eb6a",
        "colab": {
          "base_uri": "https://localhost:8080/",
          "height": 119
        }
      },
      "source": [
        "a = np.array(x)\n",
        "print(a)"
      ],
      "execution_count": null,
      "outputs": [
        {
          "output_type": "stream",
          "text": [
            "(2, 2, 3)\n",
            "[[[ 1  2  3]\n",
            "  [ 4  5  6]]\n",
            "\n",
            " [[ 7  8  9]\n",
            "  [10 11 12]]]\n"
          ],
          "name": "stdout"
        }
      ]
    },
    {
      "cell_type": "markdown",
      "metadata": {
        "id": "tv2xp3kjaSBo"
      },
      "source": [
        "Как мы видим, для numpy нет никакой разницы, сколько измерений у матрицы, все они представляются numpy.ndarray"
      ]
    },
    {
      "cell_type": "markdown",
      "metadata": {
        "id": "Tjm58y2OaSBq"
      },
      "source": [
        "# Типы данных в numpy"
      ]
    },
    {
      "cell_type": "markdown",
      "metadata": {
        "id": "6tBmi8DrHLJR"
      },
      "source": [
        "`numpy` предоставляет несколько типов для целых (`int16`, `int32`, `int64`) и чисел с плавающей точкой (`float32`, `float64`)."
      ]
    },
    {
      "cell_type": "code",
      "metadata": {
        "id": "XROlITuVHLJR",
        "outputId": "36dcaeb6-7d5e-41af-8746-c497f973db77",
        "colab": {
          "base_uri": "https://localhost:8080/",
          "height": 34
        }
      },
      "source": [
        "a.dtype, a.dtype.name, a.itemsize"
      ],
      "execution_count": null,
      "outputs": [
        {
          "output_type": "execute_result",
          "data": {
            "text/plain": [
              "(dtype('int64'), 'int64', 8)"
            ]
          },
          "metadata": {
            "tags": []
          },
          "execution_count": 13
        }
      ]
    },
    {
      "cell_type": "code",
      "metadata": {
        "id": "bYMWEBdmHLJV",
        "outputId": "be1718c4-d33b-4948-97c4-c49efe2e538f",
        "colab": {
          "base_uri": "https://localhost:8080/",
          "height": 34
        }
      },
      "source": [
        "b = np.array([0., 2, 1])\n",
        "b.dtype"
      ],
      "execution_count": null,
      "outputs": [
        {
          "output_type": "execute_result",
          "data": {
            "text/plain": [
              "dtype('float64')"
            ]
          },
          "metadata": {
            "tags": []
          },
          "execution_count": 14
        }
      ]
    },
    {
      "cell_type": "markdown",
      "metadata": {
        "id": "4gsvp2fjHLJY"
      },
      "source": [
        "Точно такой же массив."
      ]
    },
    {
      "cell_type": "code",
      "metadata": {
        "id": "ZrJbtW3OHLJY",
        "outputId": "0325330d-bff8-4b14-ecdc-7cdc4cc0c7ea",
        "colab": {
          "base_uri": "https://localhost:8080/",
          "height": 34
        }
      },
      "source": [
        "c = np.array([0.1, 2, 1], dtype=np.float64)\n",
        "print(c)"
      ],
      "execution_count": null,
      "outputs": [
        {
          "output_type": "stream",
          "text": [
            "[0.1 2.  1. ]\n"
          ],
          "name": "stdout"
        }
      ]
    },
    {
      "cell_type": "markdown",
      "metadata": {
        "id": "-U7vEzu-HLJe"
      },
      "source": [
        "Преобразование данных"
      ]
    },
    {
      "cell_type": "code",
      "metadata": {
        "id": "51ZSoCJJHLJg",
        "outputId": "bd9382ce-afd1-4e10-d215-447b99ae90a2",
        "colab": {
          "base_uri": "https://localhost:8080/",
          "height": 68
        }
      },
      "source": [
        "print(c.dtype)\n",
        "print(c.astype(int))\n",
        "print(c.astype(str))"
      ],
      "execution_count": null,
      "outputs": [
        {
          "output_type": "stream",
          "text": [
            "float64\n",
            "[0 2 1]\n",
            "['0.1' '2.0' '1.0']\n"
          ],
          "name": "stdout"
        }
      ]
    },
    {
      "cell_type": "markdown",
      "metadata": {
        "id": "AhMuoHJ3HLJm"
      },
      "source": [
        "Так для чего нам нужны эти массивы, почему нам может не хватать возможностей обычных массивов?"
      ]
    },
    {
      "cell_type": "markdown",
      "metadata": {
        "id": "49Hkkuc0K01k"
      },
      "source": [
        "# Методы массивов в numpy\n",
        "Класс `ndarray` имеет много методов."
      ]
    },
    {
      "cell_type": "code",
      "metadata": {
        "id": "j7W2JXyH9Yy9",
        "outputId": "4f651a07-40f9-4162-bab3-e1619ad9526e",
        "colab": {
          "base_uri": "https://localhost:8080/",
          "height": 54
        }
      },
      "source": [
        "print(dir(a))"
      ],
      "execution_count": null,
      "outputs": [
        {
          "output_type": "stream",
          "text": [
            "['T', '__abs__', '__add__', '__and__', '__array__', '__array_finalize__', '__array_function__', '__array_interface__', '__array_prepare__', '__array_priority__', '__array_struct__', '__array_ufunc__', '__array_wrap__', '__bool__', '__class__', '__complex__', '__contains__', '__copy__', '__deepcopy__', '__delattr__', '__delitem__', '__dir__', '__divmod__', '__doc__', '__eq__', '__float__', '__floordiv__', '__format__', '__ge__', '__getattribute__', '__getitem__', '__gt__', '__hash__', '__iadd__', '__iand__', '__ifloordiv__', '__ilshift__', '__imatmul__', '__imod__', '__imul__', '__index__', '__init__', '__init_subclass__', '__int__', '__invert__', '__ior__', '__ipow__', '__irshift__', '__isub__', '__iter__', '__itruediv__', '__ixor__', '__le__', '__len__', '__lshift__', '__lt__', '__matmul__', '__mod__', '__mul__', '__ne__', '__neg__', '__new__', '__or__', '__pos__', '__pow__', '__radd__', '__rand__', '__rdivmod__', '__reduce__', '__reduce_ex__', '__repr__', '__rfloordiv__', '__rlshift__', '__rmatmul__', '__rmod__', '__rmul__', '__ror__', '__rpow__', '__rrshift__', '__rshift__', '__rsub__', '__rtruediv__', '__rxor__', '__setattr__', '__setitem__', '__setstate__', '__sizeof__', '__str__', '__sub__', '__subclasshook__', '__truediv__', '__xor__', 'all', 'any', 'argmax', 'argmin', 'argpartition', 'argsort', 'astype', 'base', 'byteswap', 'choose', 'clip', 'compress', 'conj', 'conjugate', 'copy', 'ctypes', 'cumprod', 'cumsum', 'data', 'diagonal', 'dot', 'dtype', 'dump', 'dumps', 'fill', 'flags', 'flat', 'flatten', 'getfield', 'imag', 'item', 'itemset', 'itemsize', 'max', 'mean', 'min', 'nbytes', 'ndim', 'newbyteorder', 'nonzero', 'partition', 'prod', 'ptp', 'put', 'ravel', 'real', 'repeat', 'reshape', 'resize', 'round', 'searchsorted', 'setfield', 'setflags', 'shape', 'size', 'sort', 'squeeze', 'std', 'strides', 'sum', 'swapaxes', 'take', 'tobytes', 'tofile', 'tolist', 'tostring', 'trace', 'transpose', 'var', 'view']\n"
          ],
          "name": "stdout"
        }
      ]
    },
    {
      "cell_type": "markdown",
      "metadata": {
        "id": "fkxB2f57aSCC"
      },
      "source": [
        "## Одномерные массивы\n",
        "* числовые операции и нахождение статистик"
      ]
    },
    {
      "cell_type": "code",
      "metadata": {
        "id": "t43hJQPyaSCD"
      },
      "source": [
        "x = [1, 2, 0, 3, 4]\n",
        "a = np.array(x)"
      ],
      "execution_count": null,
      "outputs": []
    },
    {
      "cell_type": "code",
      "metadata": {
        "id": "SLqJ9iQu8h9J",
        "scrolled": true,
        "outputId": "528940a1-f6f7-47f1-9ac6-7ae697b1c8b5",
        "colab": {
          "base_uri": "https://localhost:8080/",
          "height": 34
        }
      },
      "source": [
        "# У массивов можно легко и быстро посчитать разные статистики\n",
        "a.std(), a.sum(), a.prod(), a.min(), a.max(), a.mean()"
      ],
      "execution_count": null,
      "outputs": [
        {
          "output_type": "execute_result",
          "data": {
            "text/plain": [
              "(1.4142135623730951, 10, 0, 0, 4, 2.0)"
            ]
          },
          "metadata": {
            "tags": []
          },
          "execution_count": 19
        }
      ]
    },
    {
      "cell_type": "code",
      "metadata": {
        "id": "VRnGSSDXaSCK",
        "outputId": "d5514394-cf79-4ed6-997a-ff4330c8ec35",
        "colab": {
          "base_uri": "https://localhost:8080/",
          "height": 85
        }
      },
      "source": [
        "# массивы можно умножать и складывать со скалярами и другими массивами, операции проходят поэлементно\n",
        "a * 2, a / 2, a + 1, a - 1"
      ],
      "execution_count": null,
      "outputs": [
        {
          "output_type": "execute_result",
          "data": {
            "text/plain": [
              "(array([2, 4, 0, 6, 8]),\n",
              " array([0.5, 1. , 0. , 1.5, 2. ]),\n",
              " array([2, 3, 1, 4, 5]),\n",
              " array([ 0,  1, -1,  2,  3]))"
            ]
          },
          "metadata": {
            "tags": []
          },
          "execution_count": 20
        }
      ]
    },
    {
      "cell_type": "code",
      "metadata": {
        "id": "Hm-9q9XGaSCN",
        "outputId": "4f1f037c-7a00-4dca-84ce-4f6fc77028af",
        "colab": {
          "base_uri": "https://localhost:8080/",
          "height": 119
        }
      },
      "source": [
        "a + a, a * a, a / a, a ** 2"
      ],
      "execution_count": null,
      "outputs": [
        {
          "output_type": "stream",
          "text": [
            "/usr/local/lib/python3.6/dist-packages/ipykernel_launcher.py:1: RuntimeWarning: invalid value encountered in true_divide\n",
            "  \"\"\"Entry point for launching an IPython kernel.\n"
          ],
          "name": "stderr"
        },
        {
          "output_type": "execute_result",
          "data": {
            "text/plain": [
              "(array([2, 4, 0, 6, 8]),\n",
              " array([ 1,  4,  0,  9, 16]),\n",
              " array([ 1.,  1., nan,  1.,  1.]),\n",
              " array([ 1,  4,  0,  9, 16]))"
            ]
          },
          "metadata": {
            "tags": []
          },
          "execution_count": 21
        }
      ]
    },
    {
      "cell_type": "code",
      "metadata": {
        "id": "29ugcejkHLJs",
        "outputId": "79149e69-82e2-4e9d-e3e6-56c52dae3dec",
        "colab": {
          "base_uri": "https://localhost:8080/",
          "height": 266
        }
      },
      "source": [
        "# (с листами из питона так не получится, для них сложение означает конкатенацию)\n",
        "print(type(x))\n",
        "print(x)\n",
        "print(x + x)\n",
        "print(x * 2)\n",
        "print(x ** 2)"
      ],
      "execution_count": null,
      "outputs": [
        {
          "output_type": "stream",
          "text": [
            "<class 'list'>\n",
            "[1, 2, 0, 3, 4]\n",
            "[1, 2, 0, 3, 4, 1, 2, 0, 3, 4]\n",
            "[1, 2, 0, 3, 4, 1, 2, 0, 3, 4]\n"
          ],
          "name": "stdout"
        },
        {
          "output_type": "error",
          "ename": "TypeError",
          "evalue": "ignored",
          "traceback": [
            "\u001b[0;31m---------------------------------------------------------------------------\u001b[0m",
            "\u001b[0;31mTypeError\u001b[0m                                 Traceback (most recent call last)",
            "\u001b[0;32m<ipython-input-22-3a911fa82f70>\u001b[0m in \u001b[0;36m<module>\u001b[0;34m()\u001b[0m\n\u001b[1;32m      3\u001b[0m \u001b[0mprint\u001b[0m\u001b[0;34m(\u001b[0m\u001b[0mx\u001b[0m \u001b[0;34m+\u001b[0m \u001b[0mx\u001b[0m\u001b[0;34m)\u001b[0m\u001b[0;34m\u001b[0m\u001b[0;34m\u001b[0m\u001b[0m\n\u001b[1;32m      4\u001b[0m \u001b[0mprint\u001b[0m\u001b[0;34m(\u001b[0m\u001b[0mx\u001b[0m \u001b[0;34m*\u001b[0m \u001b[0;36m2\u001b[0m\u001b[0;34m)\u001b[0m\u001b[0;34m\u001b[0m\u001b[0;34m\u001b[0m\u001b[0m\n\u001b[0;32m----> 5\u001b[0;31m \u001b[0mprint\u001b[0m\u001b[0;34m(\u001b[0m\u001b[0mx\u001b[0m \u001b[0;34m**\u001b[0m \u001b[0;36m2\u001b[0m\u001b[0;34m)\u001b[0m\u001b[0;34m\u001b[0m\u001b[0;34m\u001b[0m\u001b[0m\n\u001b[0m",
            "\u001b[0;31mTypeError\u001b[0m: unsupported operand type(s) for ** or pow(): 'list' and 'int'"
          ]
        }
      ]
    },
    {
      "cell_type": "markdown",
      "metadata": {
        "id": "8Fg3G3MgaSCU"
      },
      "source": [
        "* Поэлементные операции"
      ]
    },
    {
      "cell_type": "code",
      "metadata": {
        "id": "FCXExpERaSCV",
        "outputId": "a7152fde-9be9-4405-b0ff-87a443a1ed69",
        "colab": {
          "base_uri": "https://localhost:8080/",
          "height": 85
        }
      },
      "source": [
        "# В numpy есть почти функции, которых хватает для построения почти любого расчета\n",
        "np.exp(a), np.sin(a), np.cos(a), np.round(a) # и много других, лучше просто загуглить, когда вам что-то понадобится"
      ],
      "execution_count": null,
      "outputs": [
        {
          "output_type": "execute_result",
          "data": {
            "text/plain": [
              "(array([ 2.71828183,  7.3890561 ,  1.        , 20.08553692, 54.59815003]),\n",
              " array([ 0.84147098,  0.90929743,  0.        ,  0.14112001, -0.7568025 ]),\n",
              " array([ 0.54030231, -0.41614684,  1.        , -0.9899925 , -0.65364362]),\n",
              " array([1, 2, 0, 3, 4]))"
            ]
          },
          "metadata": {
            "tags": []
          },
          "execution_count": 23
        }
      ]
    },
    {
      "cell_type": "markdown",
      "metadata": {
        "id": "9-yZuXHFaSCY"
      },
      "source": [
        "* сортировка/добавление/удаление элементов массива"
      ]
    },
    {
      "cell_type": "code",
      "metadata": {
        "id": "FZ442SUWHLLF",
        "outputId": "beb60f84-9260-49e0-a5c4-7023cf15d582",
        "colab": {
          "base_uri": "https://localhost:8080/",
          "height": 68
        }
      },
      "source": [
        "b = np.arange(9, -1,-1)\n",
        "print(f'sorted b {np.sort(b)}')\n",
        "print(f'original b {b}')\n",
        "b.sort()\n",
        "print(f'original b after inplace sort {b}')"
      ],
      "execution_count": null,
      "outputs": [
        {
          "output_type": "stream",
          "text": [
            "sorted b [0 1 2 3 4 5 6 7 8 9]\n",
            "original b [9 8 7 6 5 4 3 2 1 0]\n",
            "original b after inplace sort [0 1 2 3 4 5 6 7 8 9]\n"
          ],
          "name": "stdout"
        }
      ]
    },
    {
      "cell_type": "markdown",
      "metadata": {
        "id": "JtLygbXuHLLH"
      },
      "source": [
        "Функции delete, insert и append не меняют массив на месте, а возвращают новый массив, в котором удалены, вставлены в середину или добавлены в конец какие-то элементы.\n"
      ]
    },
    {
      "cell_type": "code",
      "metadata": {
        "id": "FR2hIiO6HLLH",
        "outputId": "258d6e72-038f-45b4-88c1-b63012331326",
        "colab": {
          "base_uri": "https://localhost:8080/",
          "height": 34
        }
      },
      "source": [
        "a = np.arange(10, -1, -1)\n",
        "a = np.delete(a, [5, 7])\n",
        "print(a)"
      ],
      "execution_count": null,
      "outputs": [
        {
          "output_type": "stream",
          "text": [
            "[10  9  8  7  6  4  2  1  0]\n"
          ],
          "name": "stdout"
        }
      ]
    },
    {
      "cell_type": "code",
      "metadata": {
        "id": "TXpfhNR4HLLJ",
        "outputId": "551fd03e-f323-483c-a5f6-401f2b9e18a3",
        "colab": {
          "base_uri": "https://localhost:8080/",
          "height": 34
        }
      },
      "source": [
        "a = np.insert(a, [2, 3], [-100, -200])\n",
        "print(a)"
      ],
      "execution_count": null,
      "outputs": [
        {
          "output_type": "stream",
          "text": [
            "[  10    9 -100    8 -200    7    6    4    2    1    0]\n"
          ],
          "name": "stdout"
        }
      ]
    },
    {
      "cell_type": "code",
      "metadata": {
        "id": "edUJplmjHLLM",
        "outputId": "aa828222-505d-4388-f587-c252f55ecbc9",
        "colab": {
          "base_uri": "https://localhost:8080/",
          "height": 34
        }
      },
      "source": [
        "a = np.append(a, [1, 2, 3])\n",
        "print(a)"
      ],
      "execution_count": null,
      "outputs": [
        {
          "output_type": "stream",
          "text": [
            "[  10    9 -100    8 -200    7    6    4    2    1    0    1    2    3]\n"
          ],
          "name": "stdout"
        }
      ]
    },
    {
      "cell_type": "markdown",
      "metadata": {
        "id": "9s-fpupQaSCl"
      },
      "source": [
        "## Многомерные массивы\n",
        "\n",
        "В случае многомерных массивов работает все, что мы только что попробовали для одномерных, но появляются и новые возможности.\n",
        "\n",
        "* работа с shape массива\n",
        "\n",
        "У многомерны массивов есть понятие осей (их еще можно назвать измерениями). Так как одни и те же данные могут храниться в массивах разной формы, в numpy есть методы, чтобы эту форму менять"
      ]
    },
    {
      "cell_type": "markdown",
      "metadata": {
        "id": "4nnvpsEIK01s"
      },
      "source": [
        "`ndarray.shape` — размеры массива, его форма. Это кортеж натуральных чисел, показывающий длину массива по каждой оси. Для матрицы из n строк и m столбов, shape будет (n,m)."
      ]
    },
    {
      "cell_type": "markdown",
      "metadata": {
        "id": "aeRIBlpSK01s"
      },
      "source": [
        "В $n$-мерном случае возвращается кортеж размеров по каждой координате."
      ]
    },
    {
      "cell_type": "code",
      "metadata": {
        "id": "k65UpbDEaSCp",
        "outputId": "3ecde687-5165-4b81-c5b2-f779a1d53ec5",
        "colab": {
          "base_uri": "https://localhost:8080/",
          "height": 85
        }
      },
      "source": [
        "x = [[1, 2, 3],\n",
        "     [4, 5, 6]]\n",
        "a = np.array(x)\n",
        "print('shape():', a.shape,'\\nndim():', a.ndim, '\\nsize():', a.size, '\\nlen():', len(a))"
      ],
      "execution_count": null,
      "outputs": [
        {
          "output_type": "stream",
          "text": [
            "shape(): (2, 3) \n",
            "ndim(): 2 \n",
            "size(): 6 \n",
            "len(): 2\n"
          ],
          "name": "stdout"
        }
      ]
    },
    {
      "cell_type": "markdown",
      "metadata": {
        "id": "Hq1rOe4FK018"
      },
      "source": [
        "**Вопрос:**\n",
        " >Как связаны элементы кортежа shape, ndim, size?"
      ]
    },
    {
      "cell_type": "markdown",
      "metadata": {
        "id": "KQrw6IV-p-S1"
      },
      "source": [
        "** bold textОтвет:**"
      ]
    },
    {
      "cell_type": "markdown",
      "metadata": {
        "id": "tUA07amuo1jt"
      },
      "source": [
        "**Вопрос:**\n",
        ">Каковы значения shape, ndim, size, len для картинки RGB 160x100?\n",
        "\n",
        ">А для массива из 1000 таких картинок?"
      ]
    },
    {
      "cell_type": "markdown",
      "metadata": {
        "id": "_LuF70JEK018"
      },
      "source": [
        "**Ответ:**"
      ]
    },
    {
      "cell_type": "markdown",
      "metadata": {
        "id": "F7WqCNImaSCx"
      },
      "source": [
        "Для смены shape есть методы reshape, flatten, ravel"
      ]
    },
    {
      "cell_type": "code",
      "metadata": {
        "id": "Knm6SxbraSCy",
        "outputId": "b7da3272-8974-4924-b032-a9b918c7050c",
        "colab": {
          "base_uri": "https://localhost:8080/",
          "height": 170
        }
      },
      "source": [
        "print(a)\n",
        "# reshape\n",
        "print(a.reshape(3, 2))\n",
        "# вместо одной из осей можно просто вставить -1, тогда numpy попытается сам понять, какое там должно быть число\n",
        "print(a.reshape(-1, 2))\n",
        "# если такое число не получится найти, то будет ошибка\n",
        "print(a.reshape(-1))"
      ],
      "execution_count": null,
      "outputs": [
        {
          "output_type": "stream",
          "text": [
            "[[1 2 3]\n",
            " [4 5 6]]\n",
            "[[1 2]\n",
            " [3 4]\n",
            " [5 6]]\n",
            "[[1 2]\n",
            " [3 4]\n",
            " [5 6]]\n",
            "[1 2 3 4 5 6]\n"
          ],
          "name": "stdout"
        }
      ]
    },
    {
      "cell_type": "code",
      "metadata": {
        "id": "H9Ts_O-7aSC1",
        "outputId": "6fa94c4b-5995-4551-de1b-08d3f2bd2ceb",
        "colab": {
          "base_uri": "https://localhost:8080/",
          "height": 85
        }
      },
      "source": [
        "# flatten и ravel очень похожи, они вытягивают матрицу любой размерности в строчку\n",
        "# Единственно отличие в том, что flatten возвращает копию массива, вытянутую в строчку\n",
        "# а ravel - просто view(т.е. не происходит реального копирования значений)\n",
        "# Пример снизу показывает это отличие\n",
        "flattened = a.flatten()\n",
        "flattened[0] = 1000\n",
        "print(a)\n",
        "raveled = a.ravel()\n",
        "raveled[0] = 1000\n",
        "print(a)"
      ],
      "execution_count": null,
      "outputs": [
        {
          "output_type": "stream",
          "text": [
            "[[1 2 3]\n",
            " [4 5 6]]\n",
            "[[1000    2    3]\n",
            " [   4    5    6]]\n"
          ],
          "name": "stdout"
        }
      ]
    },
    {
      "cell_type": "markdown",
      "metadata": {
        "id": "mZwb98wiaSC3"
      },
      "source": [
        "* Подсчет статистик по осям"
      ]
    },
    {
      "cell_type": "code",
      "metadata": {
        "id": "J1Ue3z9FaSC4",
        "outputId": "897a0194-1bc6-4d60-9583-66c18fb9496c",
        "colab": {
          "base_uri": "https://localhost:8080/",
          "height": 51
        }
      },
      "source": [
        "print(a)"
      ],
      "execution_count": null,
      "outputs": [
        {
          "output_type": "stream",
          "text": [
            "[[1000    2    3]\n",
            " [   4    5    6]]\n"
          ],
          "name": "stdout"
        }
      ]
    },
    {
      "cell_type": "code",
      "metadata": {
        "scrolled": true,
        "id": "lMFOHDVTaSC6",
        "outputId": "ff9ad936-8e63-4c37-fb24-9f05875ba0f5",
        "colab": {
          "base_uri": "https://localhost:8080/",
          "height": 119
        }
      },
      "source": [
        "# Если не написать axis, то статистика посчиатется по всем массиву\n",
        "# Если axis=1, то для трехмерной матрицы суммирование (например) будет идти по элементам с индексами (i, *, j)\n",
        "# Если axis=(1, 2), то для трехмерной матрицы суммирование (например) будет идти по элементам с индексами (i, *, *)\n",
        "a.std(axis=0), a.sum(axis=0), a.prod(axis=0), a.min(axis=0), a.max(axis=0), a.mean(axis=0)"
      ],
      "execution_count": null,
      "outputs": [
        {
          "output_type": "execute_result",
          "data": {
            "text/plain": [
              "(array([498. ,   1.5,   1.5]),\n",
              " array([1004,    7,    9]),\n",
              " array([4000,   10,   18]),\n",
              " array([4, 2, 3]),\n",
              " array([1000,    5,    6]),\n",
              " array([502. ,   3.5,   4.5]))"
            ]
          },
          "metadata": {
            "tags": []
          },
          "execution_count": 32
        }
      ]
    },
    {
      "cell_type": "code",
      "metadata": {
        "scrolled": true,
        "id": "f8E9einlaSC8",
        "outputId": "c31bc889-1947-4b3b-8b87-e289c49fa528",
        "colab": {
          "base_uri": "https://localhost:8080/",
          "height": 119
        }
      },
      "source": [
        "# Посчитаем, итерируясь по 1 оси\n",
        "a.std(axis=1), a.sum(axis=1), a.prod(axis=1), a.min(axis=1), a.max(axis=1), a.mean(axis=1)"
      ],
      "execution_count": null,
      "outputs": [
        {
          "output_type": "execute_result",
          "data": {
            "text/plain": [
              "(array([470.22618671,   0.81649658]),\n",
              " array([1005,   15]),\n",
              " array([6000,  120]),\n",
              " array([2, 4]),\n",
              " array([1000,    6]),\n",
              " array([335.,   5.]))"
            ]
          },
          "metadata": {
            "tags": []
          },
          "execution_count": 33
        }
      ]
    },
    {
      "cell_type": "markdown",
      "metadata": {
        "id": "IBZg2BrkaSC-"
      },
      "source": [
        "## Булевы массивы\n",
        "Булевы массивы не настолько особенны, чтобы выделять их в отдельную категорию, но у них есть несколько интересных свойств, которые нам помогут. Булевы массивы естественно возникают в нашей программе при сравнении каких-то двух массивов в numpy (==,>,>=,<,<=)."
      ]
    },
    {
      "cell_type": "code",
      "metadata": {
        "id": "tTYLjXS-aSC-",
        "outputId": "2a0b86c0-d5e5-45c2-89a0-2594a6c6e2bc",
        "colab": {
          "base_uri": "https://localhost:8080/",
          "height": 102
        }
      },
      "source": [
        "a = np.array([1, 2, 3])\n",
        "b = np.array([1, 2, 0])\n",
        "\n",
        "a == b, a > b, a >= b, a < b, a <= b"
      ],
      "execution_count": null,
      "outputs": [
        {
          "output_type": "execute_result",
          "data": {
            "text/plain": [
              "(array([ True,  True, False]),\n",
              " array([False, False,  True]),\n",
              " array([ True,  True,  True]),\n",
              " array([False, False, False]),\n",
              " array([ True,  True, False]))"
            ]
          },
          "metadata": {
            "tags": []
          },
          "execution_count": 34
        }
      ]
    },
    {
      "cell_type": "markdown",
      "metadata": {
        "id": "zAIjHDPJaSDB"
      },
      "source": [
        "Посмотрим, что мы можем делать с такими массивами"
      ]
    },
    {
      "cell_type": "code",
      "metadata": {
        "id": "NDJw37SAaSDC",
        "outputId": "b5ca7c21-1a2c-41fd-da7f-6102d41a1940",
        "colab": {
          "base_uri": "https://localhost:8080/",
          "height": 85
        }
      },
      "source": [
        "a = np.array([True, False, True])\n",
        "b = np.array([False, False, True])\n",
        "\n",
        "# Логические поэлементные операции\n",
        "print(f'a and b {a & b}')\n",
        "print(f'a or b {a | b}')\n",
        "print(f'not a {~a}')\n",
        "print(f'a xor b {a ^ b}')"
      ],
      "execution_count": null,
      "outputs": [
        {
          "output_type": "stream",
          "text": [
            "a and b [False False  True]\n",
            "a or b [ True False  True]\n",
            "not a [False  True False]\n",
            "a xor b [ True False False]\n"
          ],
          "name": "stdout"
        }
      ]
    },
    {
      "cell_type": "code",
      "metadata": {
        "id": "6cSvHdOpaSDE",
        "outputId": "46ac3839-572e-48dc-bd60-00f90fc41b3a",
        "colab": {
          "base_uri": "https://localhost:8080/",
          "height": 34
        }
      },
      "source": [
        "# Логические операции над всеми элементами массива, в них тоже можно использовать параметр axis\n",
        "a.any(), a.all()"
      ],
      "execution_count": null,
      "outputs": [
        {
          "output_type": "execute_result",
          "data": {
            "text/plain": [
              "(True, False)"
            ]
          },
          "metadata": {
            "tags": []
          },
          "execution_count": 36
        }
      ]
    },
    {
      "cell_type": "code",
      "metadata": {
        "id": "7XZ8pcHiaSDI",
        "outputId": "ecd08c62-1b46-4110-efd1-f26007445a35",
        "colab": {
          "base_uri": "https://localhost:8080/",
          "height": 34
        }
      },
      "source": [
        "# Если к булевому массиву применить функции, предназначенные только для чисел,\n",
        "# то перед применением все True сконвертируются в 1, а False в 0\n",
        "# Здесь также можно добавить параметр axis\n",
        "a.mean(), a.max(), a.sum(), a.std()"
      ],
      "execution_count": null,
      "outputs": [
        {
          "output_type": "execute_result",
          "data": {
            "text/plain": [
              "(0.6666666666666666, True, 2, 0.4714045207910317)"
            ]
          },
          "metadata": {
            "tags": []
          },
          "execution_count": 37
        }
      ]
    },
    {
      "cell_type": "markdown",
      "metadata": {
        "id": "cak7YP_NaSDL"
      },
      "source": [
        "**Задание на булевы массивы:**\n",
        "> Пусть у нас есть два одномерных массива y_pred - предсказанный нашей моделью класс, и y_true - настоящий класс. Посчитайте accuracy нашего классификатора на этих данных (долю случаев, в которых реальный класс совпал с предсказанием)"
      ]
    },
    {
      "cell_type": "code",
      "metadata": {
        "id": "K5g7mFm5aSDL",
        "outputId": "c8bfc9a4-9601-468b-ad98-b0a37446e434",
        "colab": {
          "base_uri": "https://localhost:8080/",
          "height": 34
        }
      },
      "source": [
        "y_pred = np.array([1, 2, 1, 2, 1, 1])\n",
        "y_true = np.array([1, 2, 1, 1, 1, 1])\n",
        "\n",
        "(y_pred == y_true).mean()"
      ],
      "execution_count": null,
      "outputs": [
        {
          "output_type": "execute_result",
          "data": {
            "text/plain": [
              "0.8333333333333334"
            ]
          },
          "metadata": {
            "tags": []
          },
          "execution_count": 39
        }
      ]
    },
    {
      "cell_type": "markdown",
      "metadata": {
        "id": "WUyvxPIXaSDO"
      },
      "source": [
        "# Полезные функции из numpy"
      ]
    },
    {
      "cell_type": "markdown",
      "metadata": {
        "id": "jjNg7ndbaSDP"
      },
      "source": [
        "Также в numpy есть много полезных методов для получения готовых массивов какого-то вида"
      ]
    },
    {
      "cell_type": "markdown",
      "metadata": {
        "id": "-ihFsBq-HLJ3"
      },
      "source": [
        "* Функция **arange** подобна range. Аргументы могут быть с плавающей точкой. Следует избегать ситуаций, когда (конец−начало)/шаг - целое число, потому что в этом случае включение последнего элемента зависит от ошибок округления. Лучше, чтобы конец диапазона был где-то посредине шага."
      ]
    },
    {
      "cell_type": "code",
      "metadata": {
        "id": "XyLV0bszHLJ3",
        "outputId": "7d25784a-53aa-4fa7-850f-4733890b6c38",
        "colab": {
          "base_uri": "https://localhost:8080/",
          "height": 85
        }
      },
      "source": [
        "# поиграемся с питоновским методом range\n",
        "print(list(range(8)))\n",
        "print(*range(0, 8))\n",
        "print(*[2,5])\n",
        "print(2,5)"
      ],
      "execution_count": null,
      "outputs": [
        {
          "output_type": "stream",
          "text": [
            "[0, 1, 2, 3, 4, 5, 6, 7]\n",
            "0 1 2 3 4 5 6 7\n",
            "2 5\n",
            "2 5\n"
          ],
          "name": "stdout"
        }
      ]
    },
    {
      "cell_type": "code",
      "metadata": {
        "id": "ajsJU8KyHLJ8",
        "outputId": "2d583fe3-048d-47ca-ca8a-7e45155f0707",
        "colab": {
          "base_uri": "https://localhost:8080/",
          "height": 164
        }
      },
      "source": [
        "# в нем нельзя использовать не целый шаг\n",
        "print(*range(0, 8, 0.5))"
      ],
      "execution_count": null,
      "outputs": [
        {
          "output_type": "error",
          "ename": "TypeError",
          "evalue": "ignored",
          "traceback": [
            "\u001b[0;31m---------------------------------------------------------------------------\u001b[0m",
            "\u001b[0;31mTypeError\u001b[0m                                 Traceback (most recent call last)",
            "\u001b[0;32m<ipython-input-41-3069c4c7c6a8>\u001b[0m in \u001b[0;36m<module>\u001b[0;34m()\u001b[0m\n\u001b[0;32m----> 1\u001b[0;31m \u001b[0mprint\u001b[0m\u001b[0;34m(\u001b[0m\u001b[0;34m*\u001b[0m\u001b[0mrange\u001b[0m\u001b[0;34m(\u001b[0m\u001b[0;36m0\u001b[0m\u001b[0;34m,\u001b[0m \u001b[0;36m8\u001b[0m\u001b[0;34m,\u001b[0m \u001b[0;36m0.5\u001b[0m\u001b[0;34m)\u001b[0m\u001b[0;34m)\u001b[0m\u001b[0;34m\u001b[0m\u001b[0;34m\u001b[0m\u001b[0m\n\u001b[0m",
            "\u001b[0;31mTypeError\u001b[0m: 'float' object cannot be interpreted as an integer"
          ]
        }
      ]
    },
    {
      "cell_type": "code",
      "metadata": {
        "id": "t8qoTrmZHLJ_",
        "outputId": "bf7ee7f6-80fd-4300-a2c4-f08f63006a20",
        "colab": {
          "base_uri": "https://localhost:8080/",
          "height": 68
        }
      },
      "source": [
        "# перейдем к arange\n",
        "# здесь не целый шаг использовать уже можно\n",
        "print(type(np.arange(0, 8)))\n",
        "print(np.arange(0, -8, -0.5))"
      ],
      "execution_count": null,
      "outputs": [
        {
          "output_type": "stream",
          "text": [
            "<class 'numpy.ndarray'>\n",
            "[ 0.  -0.5 -1.  -1.5 -2.  -2.5 -3.  -3.5 -4.  -4.5 -5.  -5.5 -6.  -6.5\n",
            " -7.  -7.5]\n"
          ],
          "name": "stdout"
        }
      ]
    },
    {
      "cell_type": "code",
      "metadata": {
        "id": "yzlqxNrXaSDX",
        "outputId": "1f20ba07-18cb-4630-a17d-311b3c6d047f",
        "colab": {
          "base_uri": "https://localhost:8080/",
          "height": 34
        }
      },
      "source": [
        "print(np.arange(0, 8, 0.5))"
      ],
      "execution_count": null,
      "outputs": [
        {
          "output_type": "stream",
          "text": [
            "[0.  0.5 1.  1.5 2.  2.5 3.  3.5 4.  4.5 5.  5.5 6.  6.5 7.  7.5]\n"
          ],
          "name": "stdout"
        }
      ]
    },
    {
      "cell_type": "markdown",
      "metadata": {
        "id": "ouxSb-QvHLKB"
      },
      "source": [
        "Но самое главное:"
      ]
    },
    {
      "cell_type": "code",
      "metadata": {
        "id": "aaFIwlCqHLKC",
        "outputId": "6ce28036-09f7-48f7-e7e6-f5fb584ed5cb",
        "colab": {
          "base_uri": "https://localhost:8080/",
          "height": 136
        }
      },
      "source": [
        "%time np.arange(0, 50000000)\n",
        "%time list(range(0, 50000000))\n",
        "%time range(0, 50000000)"
      ],
      "execution_count": null,
      "outputs": [
        {
          "output_type": "stream",
          "text": [
            "CPU times: user 41.8 ms, sys: 177 ms, total: 219 ms\n",
            "Wall time: 221 ms\n",
            "CPU times: user 732 ms, sys: 1.12 s, total: 1.85 s\n",
            "Wall time: 1.85 s\n",
            "CPU times: user 2 µs, sys: 2 µs, total: 4 µs\n",
            "Wall time: 7.15 µs\n"
          ],
          "name": "stdout"
        },
        {
          "output_type": "execute_result",
          "data": {
            "text/plain": [
              "range(0, 50000000)"
            ]
          },
          "metadata": {
            "tags": []
          },
          "execution_count": 44
        }
      ]
    },
    {
      "cell_type": "markdown",
      "metadata": {
        "id": "94th67WKaSDb"
      },
      "source": [
        "**Вопрос на знание питона**: почему просто range занял 12 мкс, даже меньше, чем numpy?"
      ]
    },
    {
      "cell_type": "markdown",
      "metadata": {
        "id": "r_i9uX70HLKF"
      },
      "source": [
        "* Еще один метод, похожий на arange это **linspace**. С его помощью можно создавать последовательности чисел с постоянным шагом. Начало и конец диапазона включаются; последний аргумент - число точек."
      ]
    },
    {
      "cell_type": "code",
      "metadata": {
        "id": "1R3y2u7kHLKF",
        "outputId": "955743af-32d8-473c-e205-4abc28103f9a",
        "colab": {
          "base_uri": "https://localhost:8080/",
          "height": 119
        }
      },
      "source": [
        "%time a = np.linspace(0, 8, 8)\n",
        "%time print(a)"
      ],
      "execution_count": null,
      "outputs": [
        {
          "output_type": "stream",
          "text": [
            "CPU times: user 225 µs, sys: 868 µs, total: 1.09 ms\n",
            "Wall time: 1.25 ms\n",
            "[0.         1.14285714 2.28571429 3.42857143 4.57142857 5.71428571\n",
            " 6.85714286 8.        ]\n",
            "CPU times: user 679 µs, sys: 0 ns, total: 679 µs\n",
            "Wall time: 1.37 ms\n"
          ],
          "name": "stdout"
        }
      ]
    },
    {
      "cell_type": "markdown",
      "metadata": {
        "id": "7pykEjWGHLKI"
      },
      "source": [
        "* **Быстродействие**. Массивы, разумеется, можно использовать в `for` циклах. Но при этом теряется главное преимущество `numpy` - быстродействие. Всегда, когда это возможно, лучше использовать операции, определенные в numpy."
      ]
    },
    {
      "cell_type": "code",
      "metadata": {
        "id": "XOcvgxP8HLKI",
        "outputId": "fa6040fe-3538-4588-c0b8-9e27c3cd4324",
        "colab": {
          "base_uri": "https://localhost:8080/",
          "height": 51
        }
      },
      "source": [
        "%%time\n",
        "res = a + a"
      ],
      "execution_count": null,
      "outputs": [
        {
          "output_type": "stream",
          "text": [
            "CPU times: user 20 µs, sys: 11 µs, total: 31 µs\n",
            "Wall time: 33.1 µs\n"
          ],
          "name": "stdout"
        }
      ]
    },
    {
      "cell_type": "code",
      "metadata": {
        "id": "33yWW6tzHLKK",
        "outputId": "671f73bd-ff69-495f-f73c-d29a766d8a06",
        "colab": {
          "base_uri": "https://localhost:8080/",
          "height": 51
        }
      },
      "source": [
        "%%time\n",
        "res = []\n",
        "for value in a:\n",
        "    res.append(value + value)"
      ],
      "execution_count": null,
      "outputs": [
        {
          "output_type": "stream",
          "text": [
            "CPU times: user 18 µs, sys: 10 µs, total: 28 µs\n",
            "Wall time: 32.4 µs\n"
          ],
          "name": "stdout"
        }
      ]
    },
    {
      "cell_type": "markdown",
      "metadata": {
        "id": "XWLsgd8uaSDj"
      },
      "source": [
        "(в совсем простых операциях, таких как сложение двух чисел, питон не уступает в скорости C++ или C, а поэтому использование numpy не дает ввыигрыша, но в более тяжелых вычислениях разница становится колоссальнной)"
      ]
    },
    {
      "cell_type": "markdown",
      "metadata": {
        "id": "rXe3ZDApHLL-"
      },
      "source": [
        "* Еще один способ создавать стандартные массивы - __`numpy.eye(N, M=None, ...)`__, __`numpy.zeros(shape, ...)`__, __`numpy.ones(shape, ...)`__.\n",
        "\n",
        "Первая функция создает единичную матрицу размера $N \\times M$; если $M$ не задан, то $M = N$.\n",
        "\n",
        "Вторая и третья функции создают матрицы, состоящие целиком из нулей или единиц соответственно. В качестве первого аргумента необходимо задать размерность массива — кортеж целых чисел. В двумерном случае это набор из двух чисел: количество строк и столбцов матрицы.\n",
        "\n",
        "__Примеры:__"
      ]
    },
    {
      "cell_type": "code",
      "metadata": {
        "id": "2j4wk0IJHLL_",
        "outputId": "247ce660-8fde-47e8-cc0a-448621058418",
        "colab": {
          "base_uri": "https://localhost:8080/",
          "height": 119
        }
      },
      "source": [
        "b = np.eye(5)\n",
        "print(\"Единичная матрица:\\n\", b)"
      ],
      "execution_count": null,
      "outputs": [
        {
          "output_type": "stream",
          "text": [
            "Единичная матрица:\n",
            " [[1. 0. 0. 0. 0.]\n",
            " [0. 1. 0. 0. 0.]\n",
            " [0. 0. 1. 0. 0.]\n",
            " [0. 0. 0. 1. 0.]\n",
            " [0. 0. 0. 0. 1.]]\n"
          ],
          "name": "stdout"
        }
      ]
    },
    {
      "cell_type": "code",
      "metadata": {
        "id": "wskPIk0pHLME",
        "outputId": "eed429ba-0776-4e19-d392-68a1c42e1fc1",
        "colab": {
          "base_uri": "https://localhost:8080/",
          "height": 153
        }
      },
      "source": [
        "c = np.ones((7, 5))\n",
        "print(\"Матрица, состоящая из одних единиц:\\n\", c)"
      ],
      "execution_count": null,
      "outputs": [
        {
          "output_type": "stream",
          "text": [
            "Матрица, состоящая из одних единиц:\n",
            " [[1. 1. 1. 1. 1.]\n",
            " [1. 1. 1. 1. 1.]\n",
            " [1. 1. 1. 1. 1.]\n",
            " [1. 1. 1. 1. 1.]\n",
            " [1. 1. 1. 1. 1.]\n",
            " [1. 1. 1. 1. 1.]\n",
            " [1. 1. 1. 1. 1.]]\n"
          ],
          "name": "stdout"
        }
      ]
    },
    {
      "cell_type": "markdown",
      "metadata": {
        "id": "p_VsgozbHLMF"
      },
      "source": [
        "__Обратите внимание: размерность массива задается не двумя аргументами функции, а одним — кортежем!__\n",
        "\n",
        "Вот так —  __`np.ones(7, 5)`__ — создать массив не получится, так как функции в качестве параметра `shape` передается `7`, а не кортеж `(7, 5)`."
      ]
    },
    {
      "cell_type": "markdown",
      "metadata": {
        "id": "_EWNyOMzBHWd"
      },
      "source": [
        "**Задание на создание матриц:**\n",
        "> Создайте матрицу размера 4х5, у которой все элементы стоящие на диагонали равны -1, а все остальные равны 0.5"
      ]
    },
    {
      "cell_type": "code",
      "metadata": {
        "id": "lT-TsytjBGky",
        "outputId": "4d015f47-e145-41b0-ff59-2e9a905cca63",
        "colab": {
          "base_uri": "https://localhost:8080/",
          "height": 85
        }
      },
      "source": [
        "0.5 * np.ones((4, 5)) - 1.5 * np.eye(4, 5)"
      ],
      "execution_count": null,
      "outputs": [
        {
          "output_type": "execute_result",
          "data": {
            "text/plain": [
              "array([[-1. ,  0.5,  0.5,  0.5,  0.5],\n",
              "       [ 0.5, -1. ,  0.5,  0.5,  0.5],\n",
              "       [ 0.5,  0.5, -1. ,  0.5,  0.5],\n",
              "       [ 0.5,  0.5,  0.5, -1. ,  0.5]])"
            ]
          },
          "metadata": {
            "tags": []
          },
          "execution_count": 54
        }
      ]
    },
    {
      "cell_type": "markdown",
      "metadata": {
        "id": "ULmaIAMTHLKP"
      },
      "source": [
        "# Slices, Fancy Indexing and stuff"
      ]
    },
    {
      "cell_type": "markdown",
      "metadata": {
        "id": "Aax0h2xWaSDp"
      },
      "source": [
        "* Обращение по слайсам\n",
        "\n",
        "Так же как и для обычных листов, для numpy массивов доступно обращение по слайсам (a[2:5:2], 2:5:2 - слайс). Но есть одно отличие. В numpy можно писать несколько слайсов через запятую, чтобы сделать _срез_ сразу по нескольким осям - a[2:5, 1:4]."
      ]
    },
    {
      "cell_type": "code",
      "metadata": {
        "id": "QwEvyLoNaSDq",
        "outputId": "959fecd6-3377-4f31-8fb1-740910e862e9",
        "colab": {
          "base_uri": "https://localhost:8080/",
          "height": 102
        }
      },
      "source": [
        "a = np.array([\n",
        "                [1, 2, 3, 4],\n",
        "                [5, 6, 7, 8],\n",
        "                [9, 10, 11, 12]\n",
        "             ])\n",
        "print(a)\n",
        "print(a[0:2, 1:3])"
      ],
      "execution_count": null,
      "outputs": [
        {
          "output_type": "stream",
          "text": [
            "[[ 1  2  3  4]\n",
            " [ 5  6  7  8]\n",
            " [ 9 10 11 12]]\n",
            "[[2 3]\n",
            " [6 7]]\n"
          ],
          "name": "stdout"
        }
      ]
    },
    {
      "cell_type": "markdown",
      "metadata": {
        "id": "KdzPmxUaHLL5"
      },
      "source": [
        "* Обращение по слайсам с добавлением новых осей.\n",
        "\n",
        "В NumPy к размерностям объектов можно добавлять фиктивные оси с помощью np.newaxis. Для того, чтобы понять, как это сделать, рассмотрим пример:"
      ]
    },
    {
      "cell_type": "code",
      "metadata": {
        "id": "-hUON9TIHLL5",
        "outputId": "800638f3-f939-4ee2-befb-ab1027172211",
        "colab": {
          "base_uri": "https://localhost:8080/",
          "height": 85
        }
      },
      "source": [
        "a = np.arange(1, 4, 1)\n",
        "print(a)\n",
        "print('Вектор a с newaxis --> вектор-строка:\\n', a[None, :])\n",
        "print('Полученная размерность:', a[np.newaxis, :].shape)"
      ],
      "execution_count": null,
      "outputs": [
        {
          "output_type": "stream",
          "text": [
            "[1 2 3]\n",
            "Вектор a с newaxis --> вектор-строка:\n",
            " [[1 2 3]]\n",
            "Полученная размерность: (1, 3)\n"
          ],
          "name": "stdout"
        }
      ]
    },
    {
      "cell_type": "markdown",
      "metadata": {
        "id": "gqyenIEhaSDy"
      },
      "source": [
        "* Обращение по индексам\n",
        "\n",
        "в numpy можно обращаться сразу к нескольким элементам массива, которые не идут подряд, передав в качестве аргумента list или numpy array индексов"
      ]
    },
    {
      "cell_type": "code",
      "metadata": {
        "id": "aN79z1QtaSDz",
        "outputId": "7bacecd9-5253-450d-8e03-159cfd0e5f38",
        "colab": {
          "base_uri": "https://localhost:8080/",
          "height": 34
        }
      },
      "source": [
        "a = np.array([0, 1, 2, 3])\n",
        "a[0], a[[0, 1, 1, 2]], a[np.array([0, 1, 1, 2])]"
      ],
      "execution_count": null,
      "outputs": [
        {
          "output_type": "execute_result",
          "data": {
            "text/plain": [
              "(0, array([0, 1, 1, 2]), array([0, 1, 1, 2]))"
            ]
          },
          "metadata": {
            "tags": []
          },
          "execution_count": 59
        }
      ]
    },
    {
      "cell_type": "code",
      "metadata": {
        "id": "a9aN9JaLaSD1",
        "outputId": "0e652b99-8c19-473e-dab0-67b93d9ee82b",
        "colab": {
          "base_uri": "https://localhost:8080/",
          "height": 69
        }
      },
      "source": [
        "import numpy as np\n",
        "# многомерный случай\n",
        "z = np.array([[1,2], [3,4]])\n",
        "print(z)\n",
        "# можно передать лист с индексами для каждого из измерений.\n",
        "# В данном случае выберутся элементы с индексами (0, 0) и (1, 1). Результат - одномерный массив\n",
        "print(z[[0,1], [0,1]])"
      ],
      "execution_count": null,
      "outputs": [
        {
          "output_type": "stream",
          "text": [
            "[[1 2]\n",
            " [3 4]]\n",
            "[1 4]\n"
          ],
          "name": "stdout"
        }
      ]
    },
    {
      "cell_type": "markdown",
      "metadata": {
        "id": "nb8G_LUdaSD3"
      },
      "source": [
        "* Обращение по булевому массиву"
      ]
    },
    {
      "cell_type": "code",
      "metadata": {
        "id": "VP7UZPrnHLKS",
        "outputId": "648f2684-f341-4717-a7dc-8c1007e2efee",
        "colab": {
          "base_uri": "https://localhost:8080/",
          "height": 68
        }
      },
      "source": [
        "print(a)\n",
        "print(a[[True, False, True, True]])\n",
        "# Как мы уже выяснили, в результате сравнения numpy массивов получается булев массив,\n",
        "# его очень удобно использовать, чтобы обращаться к элементам, удовлетворяющим какому-то условию\n",
        "print(a[a > 1]"
      ],
      "execution_count": null,
      "outputs": [
        {
          "output_type": "stream",
          "text": [
            "[0 1 2 3]\n",
            "[0 2 3]\n",
            "[2 3]\n"
          ],
          "name": "stdout"
        }
      ]
    },
    {
      "cell_type": "markdown",
      "metadata": {
        "id": "SDRu54bhaSD5"
      },
      "source": [
        "В NumPy к размерностям объектов можно добавлять фиктивные оси с помощью np.newaxis. Для того, чтобы понять, как это сделать, рассмотрим пример:"
      ]
    },
    {
      "cell_type": "markdown",
      "metadata": {
        "id": "sl_dxkHfaSEB"
      },
      "source": [
        "* Присвоение значений во view\n",
        "\n",
        "Когда мы используем слайсы для выборки каких-то элементов массива, нам возвращается не новый массив с этими элементами, а просто объект view, который ссылается на какие-то ячейки в реальном массиве. Поэтому мы можем сделать так:"
      ]
    },
    {
      "cell_type": "code",
      "metadata": {
        "id": "b_Li8FGLaSEB",
        "outputId": "f192d100-88de-4acb-d8fb-6d39a766e1a5",
        "colab": {
          "base_uri": "https://localhost:8080/",
          "height": 68
        }
      },
      "source": [
        "a = np.array([1, 2, 3])\n",
        "b = a[0:2]\n",
        "print(b)\n",
        "b[0] = 100\n",
        "print(b)\n",
        "print(a)"
      ],
      "execution_count": null,
      "outputs": [
        {
          "output_type": "stream",
          "text": [
            "[1 2]\n",
            "[100   2]\n",
            "[100   2   3]\n"
          ],
          "name": "stdout"
        }
      ]
    },
    {
      "cell_type": "markdown",
      "metadata": {
        "id": "PfdoN87ZaSED"
      },
      "source": [
        "Изменив элемент во view b, мы поменяли элемент и в массиве а. Если же обратиться по списку координат или булевому массиву, так не получится"
      ]
    },
    {
      "cell_type": "code",
      "metadata": {
        "id": "brYHL8v4aSED",
        "outputId": "aa930483-e0a0-4fe2-e874-2ae200b9321c",
        "colab": {
          "base_uri": "https://localhost:8080/",
          "height": 68
        }
      },
      "source": [
        "a = np.array([1, 2, 3])\n",
        "b = a[[0, 1]]\n",
        "print(b)\n",
        "b[0] = 100\n",
        "print(b)\n",
        "print(a)"
      ],
      "execution_count": null,
      "outputs": [
        {
          "output_type": "stream",
          "text": [
            "[1 2]\n",
            "[100   2]\n",
            "[1 2 3]\n"
          ],
          "name": "stdout"
        }
      ]
    },
    {
      "cell_type": "code",
      "metadata": {
        "id": "x-PVgDYAaSEF",
        "outputId": "8156ff08-8134-4587-8b77-e134a85a1f2b",
        "colab": {
          "base_uri": "https://localhost:8080/",
          "height": 68
        }
      },
      "source": [
        "a = np.array([1, 2, 3])\n",
        "b = a[[True, True, False]]\n",
        "print(b)\n",
        "b[0] = 100\n",
        "print(b)\n",
        "print(a)"
      ],
      "execution_count": null,
      "outputs": [
        {
          "output_type": "stream",
          "text": [
            "[1 2]\n",
            "[100   2]\n",
            "[1 2 3]\n"
          ],
          "name": "stdout"
        }
      ]
    },
    {
      "cell_type": "markdown",
      "metadata": {
        "id": "TR5bSBAsaSEH"
      },
      "source": [
        "Означает ли это, что не сработают выражения вида:\n",
        "> a[[0, 1]] = 100\n",
        "\n",
        "> a[[True, True, False]] = 100\n",
        "\n",
        "Присваивания сработают, потому что в данном случае копия массива создаваться не будет, вместо этого вызовется магический метод питона \\_\\_setitem\\_\\_. Очень удобная особенность питона, про которую не стоит забывать."
      ]
    },
    {
      "cell_type": "code",
      "metadata": {
        "id": "dqLwgnxYaSEH",
        "outputId": "5f1d832a-6ed7-4a04-fec3-67b16621cee7",
        "colab": {
          "base_uri": "https://localhost:8080/",
          "height": 34
        }
      },
      "source": [
        "a = np.array([1, 2, 3])\n",
        "a[[True, True, False]] = 100\n",
        "print(a)"
      ],
      "execution_count": null,
      "outputs": [
        {
          "output_type": "stream",
          "text": [
            "[100 100   3]\n"
          ],
          "name": "stdout"
        }
      ]
    },
    {
      "cell_type": "markdown",
      "metadata": {
        "id": "4px-96mmaSEK"
      },
      "source": [
        "Если же слева будет не просто обращение по индексу, а двойное обращение по индексу, то питону придется вычислить значение\n",
        "> a[[True, True, False]]\n",
        "\n",
        "тем самым создав копию, и только потом взять у него нулевой элемент. Поэтому 0 присвоится в массив-копию, который тут же уничтожится."
      ]
    },
    {
      "cell_type": "code",
      "metadata": {
        "id": "HUryf9tWaSEL",
        "outputId": "6ea282df-fe7a-4e32-be27-bd054e193f29",
        "colab": {
          "base_uri": "https://localhost:8080/",
          "height": 51
        }
      },
      "source": [
        "a = np.array([1, 2, 3])\n",
        "a[[True, True, False]][0] = 100\n",
        "print(a)"
      ],
      "execution_count": null,
      "outputs": [
        {
          "output_type": "stream",
          "text": [
            "[1 2 3]\n"
          ],
          "name": "stdout"
        },
        {
          "output_type": "execute_result",
          "data": {
            "text/plain": [
              "1"
            ]
          },
          "metadata": {
            "tags": []
          },
          "execution_count": 69
        }
      ]
    },
    {
      "cell_type": "markdown",
      "metadata": {
        "id": "qPgkWQN2CMOf"
      },
      "source": [
        "**Задание на slicing:**\n",
        "> Создайте матрицу 4х4, у которой элементы i=4-j равны 1, а остальные - нулю"
      ]
    },
    {
      "cell_type": "code",
      "metadata": {
        "id": "1v0h7fi6CcN2",
        "outputId": "17678840-1727-4144-943d-6eb58fd47db3",
        "colab": {
          "base_uri": "https://localhost:8080/",
          "height": 101
        }
      },
      "source": [
        "m = np.eye(4, 5)\n",
        "m[[0, 1, 2, 3], [1, 1, 1, 1]] = [1, 2, 3, 4]\n",
        "print(m)\n",
        "m[-2][-1]"
      ],
      "execution_count": null,
      "outputs": [
        {
          "output_type": "stream",
          "text": [
            "[[1. 1. 0. 0. 0.]\n",
            " [0. 2. 0. 0. 0.]\n",
            " [0. 3. 1. 0. 0.]\n",
            " [0. 4. 0. 1. 0.]]\n"
          ],
          "name": "stdout"
        },
        {
          "output_type": "execute_result",
          "data": {
            "text/plain": [
              "0.0"
            ]
          },
          "metadata": {
            "tags": []
          },
          "execution_count": 26
        }
      ]
    },
    {
      "cell_type": "markdown",
      "metadata": {
        "id": "AM3HRmx5aSEM"
      },
      "source": [
        "# Линейная Алгебра\n",
        "\n",
        "До этого мы рассматривали разные операции numpy, которые не связаны напрямую с линейной алгеброй. Пришло время это изменить)"
      ]
    },
    {
      "cell_type": "markdown",
      "metadata": {
        "id": "WfqfXImaHLKg"
      },
      "source": [
        "* Скалярное произведение\n",
        "$a~\\cdot~b = (a_1, a_2, .., a_n) \\cdot (b_1, b_2, .., b_n) = a_1b_1 + a_2b_2 + .. + b_nb_n = \\sum_{i=1}^{n} a_ib_i$:\n"
      ]
    },
    {
      "cell_type": "code",
      "metadata": {
        "id": "47c57Q62EQmw",
        "outputId": "4d69d7c6-0b05-43b5-9716-2b0b60df18ab",
        "colab": {
          "base_uri": "https://localhost:8080/",
          "height": 34
        }
      },
      "source": [
        "a = np.array([1, 2, 3])\n",
        "b = np.array([2, 3, 4])\n",
        "print(a,b)"
      ],
      "execution_count": null,
      "outputs": [
        {
          "output_type": "stream",
          "text": [
            "[1 2 3] [2 3 4]\n"
          ],
          "name": "stdout"
        }
      ]
    },
    {
      "cell_type": "code",
      "metadata": {
        "id": "zae5Ebopvf5t",
        "outputId": "d8e7c10e-a0d0-4d76-9b77-279b8a279ef2",
        "colab": {
          "base_uri": "https://localhost:8080/",
          "height": 34
        }
      },
      "source": [
        "a @ b"
      ],
      "execution_count": null,
      "outputs": [
        {
          "output_type": "execute_result",
          "data": {
            "text/plain": [
              "20"
            ]
          },
          "metadata": {
            "tags": []
          },
          "execution_count": 86
        }
      ]
    },
    {
      "cell_type": "code",
      "metadata": {
        "id": "YXx9wDsyHLKi",
        "outputId": "f7ad5513-532e-4c96-e660-fb572979d9f7",
        "colab": {
          "base_uri": "https://localhost:8080/",
          "height": 34
        }
      },
      "source": [
        "print(np.matmul(a, b))"
      ],
      "execution_count": null,
      "outputs": [
        {
          "output_type": "stream",
          "text": [
            "20\n"
          ],
          "name": "stdout"
        }
      ]
    },
    {
      "cell_type": "code",
      "metadata": {
        "id": "JY03g_bEHLLe"
      },
      "source": [
        "* Векторы и матрицы"
      ],
      "execution_count": null,
      "outputs": []
    },
    {
      "cell_type": "code",
      "metadata": {
        "id": "HKDz1cB9aSEU"
      },
      "source": [
        "b = np.array([\n",
        "    [1, 2, 3],\n",
        "    [4, 5, 6]\n",
        "])"
      ],
      "execution_count": null,
      "outputs": []
    },
    {
      "cell_type": "markdown",
      "metadata": {
        "id": "FFiel6s3HLLp"
      },
      "source": [
        "Наш 2-мерный массив __b__, также его можно назвать матрицей, имеет 2 строки и 3 столбца.\n",
        "То есть наша матрица состоит из 2 вектор-строк:"
      ]
    },
    {
      "cell_type": "code",
      "metadata": {
        "id": "LxQ6e7GCHLLq",
        "outputId": "73464f93-9185-4df4-c8d9-acd0deb73fde",
        "colab": {
          "base_uri": "https://localhost:8080/",
          "height": 85
        }
      },
      "source": [
        "print(b)\n",
        "b[0:2,0:1]"
      ],
      "execution_count": null,
      "outputs": [
        {
          "output_type": "stream",
          "text": [
            "[[1 2 3]\n",
            " [4 5 6]]\n"
          ],
          "name": "stdout"
        },
        {
          "output_type": "execute_result",
          "data": {
            "text/plain": [
              "array([[1],\n",
              "       [4]])"
            ]
          },
          "metadata": {
            "tags": []
          },
          "execution_count": 89
        }
      ]
    },
    {
      "cell_type": "code",
      "metadata": {
        "id": "q1V4QuJvHLLs"
      },
      "source": [
        "b[1:2]"
      ],
      "execution_count": null,
      "outputs": []
    },
    {
      "cell_type": "markdown",
      "metadata": {
        "id": "UX0T5yRzHLLv"
      },
      "source": [
        "Обычно в линейной алгебре под любым вектором подразумевается вектор-столбец. Наша матрица содержит 3 вектор-стобца:"
      ]
    },
    {
      "cell_type": "code",
      "metadata": {
        "id": "0kWqkkhmHLLv",
        "outputId": "de68cadf-c713-4876-adfa-d4d5fca75c2a",
        "colab": {
          "base_uri": "https://localhost:8080/",
          "height": 51
        }
      },
      "source": [
        "b[:, 0:1]"
      ],
      "execution_count": null,
      "outputs": [
        {
          "output_type": "execute_result",
          "data": {
            "text/plain": [
              "array([[1],\n",
              "       [4]])"
            ]
          },
          "metadata": {
            "tags": []
          },
          "execution_count": 90
        }
      ]
    },
    {
      "cell_type": "code",
      "metadata": {
        "id": "CxUwuDqUHLLx",
        "outputId": "9e092db8-9f94-4a0c-b892-046dd8c90a64",
        "colab": {
          "base_uri": "https://localhost:8080/",
          "height": 51
        }
      },
      "source": [
        "b[:, 1:2]"
      ],
      "execution_count": null,
      "outputs": [
        {
          "output_type": "execute_result",
          "data": {
            "text/plain": [
              "array([[2],\n",
              "       [5]])"
            ]
          },
          "metadata": {
            "tags": []
          },
          "execution_count": 91
        }
      ]
    },
    {
      "cell_type": "code",
      "metadata": {
        "id": "ulY47VBJHLL1",
        "outputId": "235e64ff-b067-4d2f-db06-dbbc0eabab61",
        "colab": {
          "base_uri": "https://localhost:8080/",
          "height": 51
        }
      },
      "source": [
        "b[:, 2:3]"
      ],
      "execution_count": null,
      "outputs": [
        {
          "output_type": "execute_result",
          "data": {
            "text/plain": [
              "array([[3],\n",
              "       [6]])"
            ]
          },
          "metadata": {
            "tags": []
          },
          "execution_count": 92
        }
      ]
    },
    {
      "cell_type": "code",
      "metadata": {
        "id": "yoGzfSxbvbdJ",
        "outputId": "1f834fd5-6886-48c4-dc3c-9ad245faac3a",
        "colab": {
          "base_uri": "https://localhost:8080/",
          "height": 164
        }
      },
      "source": [
        "a @ b"
      ],
      "execution_count": null,
      "outputs": [
        {
          "output_type": "error",
          "ename": "ValueError",
          "evalue": "ignored",
          "traceback": [
            "\u001b[0;31m---------------------------------------------------------------------------\u001b[0m",
            "\u001b[0;31mValueError\u001b[0m                                Traceback (most recent call last)",
            "\u001b[0;32m<ipython-input-93-88de868f0fd7>\u001b[0m in \u001b[0;36m<module>\u001b[0;34m()\u001b[0m\n\u001b[0;32m----> 1\u001b[0;31m \u001b[0ma\u001b[0m \u001b[0;34m@\u001b[0m \u001b[0mb\u001b[0m\u001b[0;34m\u001b[0m\u001b[0;34m\u001b[0m\u001b[0m\n\u001b[0m",
            "\u001b[0;31mValueError\u001b[0m: matmul: Input operand 1 has a mismatch in its core dimension 0, with gufunc signature (n?,k),(k,m?)->(n?,m?) (size 2 is different from 3)"
          ]
        }
      ]
    },
    {
      "cell_type": "markdown",
      "metadata": {
        "id": "j5YLEr1YHLMe"
      },
      "source": [
        "## Операции с матрицами"
      ]
    },
    {
      "cell_type": "code",
      "metadata": {
        "id": "LuHvQIYYHLMe"
      },
      "source": [
        "A = np.array([[1, 0], [0, 1]])\n",
        "B = np.array([[4, 1], [2, 2]])"
      ],
      "execution_count": null,
      "outputs": []
    },
    {
      "cell_type": "markdown",
      "metadata": {
        "id": "Y7CJCuL5HLMl"
      },
      "source": [
        "__Напоминание теории.__ __Транспонированной матрицей__ $A^{T}$ называется матрица, полученная из исходной матрицы $A$ заменой строк на столбцы. Формально: элементы матрицы $A^{T}$ определяются как $a^{T}_{ij} = a_{ji}$, где $a^{T}_{ij}$ — элемент матрицы $A^{T}$, стоящий на пересечении строки с номером $i$ и столбца с номером $j$.\n",
        "\n",
        "В `NumPy` транспонированная матрица вычисляется с помощью функции __`numpy.transpose()`__ или с помощью _метода_ __`array.T`__, где __`array`__ — нужный двумерный массив."
      ]
    },
    {
      "cell_type": "code",
      "metadata": {
        "id": "Q6G6FzQ3HLMl"
      },
      "source": [
        "a = np.array([[1, 2], [3, 4]])\n",
        "b = np.transpose(a)\n",
        "c = a.T"
      ],
      "execution_count": null,
      "outputs": []
    },
    {
      "cell_type": "code",
      "metadata": {
        "id": "_dBqecA2HLMn",
        "outputId": "d03838ae-733c-4974-e186-2d0bca1588a6",
        "colab": {
          "base_uri": "https://localhost:8080/",
          "height": 170
        }
      },
      "source": [
        "print(\"Матрица:\\n\", a)\n",
        "print(\"Транспонирование функцией:\\n\", b)\n",
        "print(\"Транспонирование методом:\\n\",  c)"
      ],
      "execution_count": null,
      "outputs": [
        {
          "output_type": "stream",
          "text": [
            "Матрица:\n",
            " [[1 2]\n",
            " [3 4]]\n",
            "Транспонирование функцией:\n",
            " [[1 3]\n",
            " [2 4]]\n",
            "Транспонирование методом:\n",
            " [[1 3]\n",
            " [2 4]]\n"
          ],
          "name": "stdout"
        }
      ]
    },
    {
      "cell_type": "code",
      "metadata": {
        "id": "xRH5WThdwJ_m"
      },
      "source": [
        "a @ b"
      ],
      "execution_count": null,
      "outputs": []
    },
    {
      "cell_type": "markdown",
      "metadata": {
        "id": "gPABHln8HLMp"
      },
      "source": [
        "__Напоминание теории.__ Операция __умножения__ определена для двух матриц, таких что число столбцов первой равно числу строк второй.\n",
        "\n",
        "Пусть матрицы $A$ и $B$ таковы, что $A \\in \\mathbb{R}^{n \\times k}$ и $B \\in \\mathbb{R}^{k \\times m}$. __Произведением__ матриц $A$ и $B$ называется матрица $C$, такая что $c_{ij} = \\sum_{r=1}^{k} a_{ir}b_{rj}$, где $c_{ij}$ — элемент матрицы $C$, стоящий на пересечении строки с номером $i$ и столбца с номером $j$.\n",
        "\n",
        "В `NumPy` произведение матриц вычисляется с помощью функции __`numpy.dot(a, b, ...)`__ или с помощью _метода_ __`array1.dot(array2)`__, где __`array1`__ и __`array2`__ — перемножаемые матрицы."
      ]
    },
    {
      "cell_type": "code",
      "metadata": {
        "id": "nvmP9mmLHLMq"
      },
      "source": [
        "y = np.array([1, 0])\n",
        "z = np.dot(A, y)"
      ],
      "execution_count": null,
      "outputs": []
    },
    {
      "cell_type": "code",
      "metadata": {
        "id": "YIsxb9UdK06n",
        "outputId": "805319e4-cfe2-42ca-95cc-7a04b1bf6d22",
        "colab": {
          "base_uri": "https://localhost:8080/",
          "height": 34
        }
      },
      "source": [
        "y = np.linalg.solve(A, z)\n",
        "print(y)"
      ],
      "execution_count": null,
      "outputs": [
        {
          "output_type": "stream",
          "text": [
            "[1. 0.]\n"
          ],
          "name": "stdout"
        }
      ]
    },
    {
      "cell_type": "markdown",
      "metadata": {
        "id": "4t6WW1poHLMs"
      },
      "source": [
        "#### Линейная алгебра (модуль `np.linalg`)zxxz"
      ]
    },
    {
      "cell_type": "code",
      "metadata": {
        "id": "UyCMO5DvHLMt",
        "outputId": "4c18b318-c15f-4eeb-8f40-c20998730ef2",
        "colab": {
          "base_uri": "https://localhost:8080/",
          "height": 51
        }
      },
      "source": [
        "A = np.array([[1, 0], [1, 0]])\n",
        "x = np.array([[4, 1], [2, 2]])\n",
        "b = np.dot(A, x)\n",
        "print(b)"
      ],
      "execution_count": null,
      "outputs": [
        {
          "output_type": "stream",
          "text": [
            "[[4 1]\n",
            " [4 1]]\n"
          ],
          "name": "stdout"
        }
      ]
    },
    {
      "cell_type": "markdown",
      "metadata": {
        "id": "Fse23NT-HLMu"
      },
      "source": [
        "* Решение линейной системы __$Ax=b$__:"
      ]
    },
    {
      "cell_type": "code",
      "metadata": {
        "id": "zzseRnnjHLMv",
        "outputId": "95e2445c-fd58-4ae4-db29-9fbb36484548",
        "colab": {
          "base_uri": "https://localhost:8080/",
          "height": 324
        }
      },
      "source": [
        "x = np.linalg.solve(A, b)\n",
        "print(x)"
      ],
      "execution_count": null,
      "outputs": [
        {
          "output_type": "error",
          "ename": "LinAlgError",
          "evalue": "ignored",
          "traceback": [
            "\u001b[0;31m---------------------------------------------------------------------------\u001b[0m",
            "\u001b[0;31mLinAlgError\u001b[0m                               Traceback (most recent call last)",
            "\u001b[0;32m<ipython-input-100-19c382a1d613>\u001b[0m in \u001b[0;36m<module>\u001b[0;34m()\u001b[0m\n\u001b[0;32m----> 1\u001b[0;31m \u001b[0mx\u001b[0m \u001b[0;34m=\u001b[0m \u001b[0mnp\u001b[0m\u001b[0;34m.\u001b[0m\u001b[0mlinalg\u001b[0m\u001b[0;34m.\u001b[0m\u001b[0msolve\u001b[0m\u001b[0;34m(\u001b[0m\u001b[0mA\u001b[0m\u001b[0;34m,\u001b[0m \u001b[0mb\u001b[0m\u001b[0;34m)\u001b[0m\u001b[0;34m\u001b[0m\u001b[0;34m\u001b[0m\u001b[0m\n\u001b[0m\u001b[1;32m      2\u001b[0m \u001b[0mprint\u001b[0m\u001b[0;34m(\u001b[0m\u001b[0mx\u001b[0m\u001b[0;34m)\u001b[0m\u001b[0;34m\u001b[0m\u001b[0;34m\u001b[0m\u001b[0m\n",
            "\u001b[0;32m/usr/local/lib/python3.6/dist-packages/numpy/linalg/linalg.py\u001b[0m in \u001b[0;36msolve\u001b[0;34m(a, b)\u001b[0m\n\u001b[1;32m    401\u001b[0m     \u001b[0msignature\u001b[0m \u001b[0;34m=\u001b[0m \u001b[0;34m'DD->D'\u001b[0m \u001b[0;32mif\u001b[0m \u001b[0misComplexType\u001b[0m\u001b[0;34m(\u001b[0m\u001b[0mt\u001b[0m\u001b[0;34m)\u001b[0m \u001b[0;32melse\u001b[0m \u001b[0;34m'dd->d'\u001b[0m\u001b[0;34m\u001b[0m\u001b[0;34m\u001b[0m\u001b[0m\n\u001b[1;32m    402\u001b[0m     \u001b[0mextobj\u001b[0m \u001b[0;34m=\u001b[0m \u001b[0mget_linalg_error_extobj\u001b[0m\u001b[0;34m(\u001b[0m\u001b[0m_raise_linalgerror_singular\u001b[0m\u001b[0;34m)\u001b[0m\u001b[0;34m\u001b[0m\u001b[0;34m\u001b[0m\u001b[0m\n\u001b[0;32m--> 403\u001b[0;31m     \u001b[0mr\u001b[0m \u001b[0;34m=\u001b[0m \u001b[0mgufunc\u001b[0m\u001b[0;34m(\u001b[0m\u001b[0ma\u001b[0m\u001b[0;34m,\u001b[0m \u001b[0mb\u001b[0m\u001b[0;34m,\u001b[0m \u001b[0msignature\u001b[0m\u001b[0;34m=\u001b[0m\u001b[0msignature\u001b[0m\u001b[0;34m,\u001b[0m \u001b[0mextobj\u001b[0m\u001b[0;34m=\u001b[0m\u001b[0mextobj\u001b[0m\u001b[0;34m)\u001b[0m\u001b[0;34m\u001b[0m\u001b[0;34m\u001b[0m\u001b[0m\n\u001b[0m\u001b[1;32m    404\u001b[0m \u001b[0;34m\u001b[0m\u001b[0m\n\u001b[1;32m    405\u001b[0m     \u001b[0;32mreturn\u001b[0m \u001b[0mwrap\u001b[0m\u001b[0;34m(\u001b[0m\u001b[0mr\u001b[0m\u001b[0;34m.\u001b[0m\u001b[0mastype\u001b[0m\u001b[0;34m(\u001b[0m\u001b[0mresult_t\u001b[0m\u001b[0;34m,\u001b[0m \u001b[0mcopy\u001b[0m\u001b[0;34m=\u001b[0m\u001b[0;32mFalse\u001b[0m\u001b[0;34m)\u001b[0m\u001b[0;34m)\u001b[0m\u001b[0;34m\u001b[0m\u001b[0;34m\u001b[0m\u001b[0m\n",
            "\u001b[0;32m/usr/local/lib/python3.6/dist-packages/numpy/linalg/linalg.py\u001b[0m in \u001b[0;36m_raise_linalgerror_singular\u001b[0;34m(err, flag)\u001b[0m\n\u001b[1;32m     95\u001b[0m \u001b[0;34m\u001b[0m\u001b[0m\n\u001b[1;32m     96\u001b[0m \u001b[0;32mdef\u001b[0m \u001b[0m_raise_linalgerror_singular\u001b[0m\u001b[0;34m(\u001b[0m\u001b[0merr\u001b[0m\u001b[0;34m,\u001b[0m \u001b[0mflag\u001b[0m\u001b[0;34m)\u001b[0m\u001b[0;34m:\u001b[0m\u001b[0;34m\u001b[0m\u001b[0;34m\u001b[0m\u001b[0m\n\u001b[0;32m---> 97\u001b[0;31m     \u001b[0;32mraise\u001b[0m \u001b[0mLinAlgError\u001b[0m\u001b[0;34m(\u001b[0m\u001b[0;34m\"Singular matrix\"\u001b[0m\u001b[0;34m)\u001b[0m\u001b[0;34m\u001b[0m\u001b[0;34m\u001b[0m\u001b[0m\n\u001b[0m\u001b[1;32m     98\u001b[0m \u001b[0;34m\u001b[0m\u001b[0m\n\u001b[1;32m     99\u001b[0m \u001b[0;32mdef\u001b[0m \u001b[0m_raise_linalgerror_nonposdef\u001b[0m\u001b[0;34m(\u001b[0m\u001b[0merr\u001b[0m\u001b[0;34m,\u001b[0m \u001b[0mflag\u001b[0m\u001b[0;34m)\u001b[0m\u001b[0;34m:\u001b[0m\u001b[0;34m\u001b[0m\u001b[0;34m\u001b[0m\u001b[0m\n",
            "\u001b[0;31mLinAlgError\u001b[0m: Singular matrix"
          ]
        }
      ]
    },
    {
      "cell_type": "markdown",
      "metadata": {
        "id": "GV6WaYJ3K06x"
      },
      "source": [
        "### Библиотека SciPy"
      ]
    },
    {
      "cell_type": "markdown",
      "metadata": {
        "id": "rfbdWyb7K06x"
      },
      "source": [
        "* Оптимизация функции (нахождение минимума/максимума):"
      ]
    },
    {
      "cell_type": "code",
      "metadata": {
        "id": "8UhGZKOEK06y"
      },
      "source": [
        "from scipy.optimize import minimize"
      ],
      "execution_count": 2,
      "outputs": []
    },
    {
      "cell_type": "markdown",
      "metadata": {
        "id": "9adfxLQHK06y"
      },
      "source": [
        "Обязательно посмотрите документацию, сходу не очевидно, как именно использовать:"
      ]
    },
    {
      "cell_type": "code",
      "metadata": {
        "id": "_vpG937gK06y"
      },
      "source": [
        "?minimize"
      ],
      "execution_count": 3,
      "outputs": []
    },
    {
      "cell_type": "markdown",
      "metadata": {
        "id": "tOHJi6hZK06z"
      },
      "source": [
        "Опмтимизируем (минимизируем) простую функцию:"
      ]
    },
    {
      "cell_type": "code",
      "metadata": {
        "id": "7cyblRsMK06z"
      },
      "source": [
        "def f(x):\n",
        "    return x ** 2"
      ],
      "execution_count": 4,
      "outputs": []
    },
    {
      "cell_type": "code",
      "metadata": {
        "id": "jg1vmj6oyRhB",
        "outputId": "d09f2306-5059-4408-892d-8a5be420678b",
        "colab": {
          "base_uri": "https://localhost:8080/",
          "height": 447
        }
      },
      "source": [
        "%matplotlib inline\n",
        "import matplotlib.pyplot as plt\n",
        "\n",
        "x = np.arange(-3, 3, .1)\n",
        "y = f(x)\n",
        "\n",
        "plt.plot(x,y)\n",
        "# plt.show()"
      ],
      "execution_count": 7,
      "outputs": [
        {
          "output_type": "execute_result",
          "data": {
            "text/plain": [
              "[<matplotlib.lines.Line2D at 0x7aaa8bd140a0>]"
            ]
          },
          "metadata": {},
          "execution_count": 7
        },
        {
          "output_type": "display_data",
          "data": {
            "text/plain": [
              "<Figure size 640x480 with 1 Axes>"
            ],
            "image/png": "[encoded data removed]"
          },
          "metadata": {}
        }
      ]
    },
    {
      "cell_type": "code",
      "metadata": {
        "id": "8AQZT2IDK060"
      },
      "source": [
        "res = minimize(f, x0=100)"
      ],
      "execution_count": null,
      "outputs": []
    },
    {
      "cell_type": "code",
      "metadata": {
        "id": "u5-yXZoDK060",
        "outputId": "801a7a21-6a29-4395-b365-e3015754bdf8",
        "colab": {
          "base_uri": "https://localhost:8080/",
          "height": 187
        }
      },
      "source": [
        "res"
      ],
      "execution_count": null,
      "outputs": [
        {
          "output_type": "execute_result",
          "data": {
            "text/plain": [
              "      fun: 5.552074997367714e-17\n",
              " hess_inv: array([[0.50000004]])\n",
              "      jac: array([-1.28826571e-12])\n",
              "  message: 'Optimization terminated successfully.'\n",
              "     nfev: 21\n",
              "      nit: 4\n",
              "     njev: 7\n",
              "   status: 0\n",
              "  success: True\n",
              "        x: array([-7.45122473e-09])"
            ]
          },
          "metadata": {
            "tags": []
          },
          "execution_count": 106
        }
      ]
    },
    {
      "cell_type": "markdown",
      "metadata": {
        "id": "JPQkniL8K061"
      },
      "source": [
        "Тут нужно смотреть на 4 строчки: `fun, message, success и x`  \n",
        "`fun` - значние функции в точке минимума  \n",
        "`message` - служебное сообщение об окончании процесса (может быть \"успешно\", как здесь, или сообщение о том, что что-то пошло не так (\"не сошлось\"))  \n",
        "`success` - True, если успешно сошлось (но лучше всегда всё же смотреть и `message`)  \n",
        "`x` - точка, в которой достигается минимум"
      ]
    },
    {
      "cell_type": "markdown",
      "metadata": {
        "id": "JutOzQrlK062"
      },
      "source": [
        "Можно в аргумент `method` подавать разные ключевые слова для смены метода оптимизации, подробнее о них лучше читать документацию или погуглить."
      ]
    },
    {
      "cell_type": "markdown",
      "metadata": {
        "id": "eNfjwNPcK062"
      },
      "source": [
        "* Интегрирование:"
      ]
    },
    {
      "cell_type": "code",
      "metadata": {
        "id": "v07dtKwdK062"
      },
      "source": [
        "from scipy.integrate import quad, odeint\n",
        "from scipy.special import erf"
      ],
      "execution_count": 8,
      "outputs": []
    },
    {
      "cell_type": "code",
      "metadata": {
        "id": "5JAJF-RHK063"
      },
      "source": [
        "def f(x):\n",
        "    return np.exp(-x ** 2)\n",
        "?erf"
      ],
      "execution_count": 9,
      "outputs": []
    },
    {
      "cell_type": "code",
      "metadata": {
        "id": "VpncsF4KylNB",
        "outputId": "6e0f6dd1-bebc-4d47-c769-95775f53a427",
        "colab": {
          "base_uri": "https://localhost:8080/",
          "height": 430
        }
      },
      "source": [
        "%matplotlib inline\n",
        "import matplotlib.pyplot as plt\n",
        "\n",
        "x = np.arange(-3, 3, .1)\n",
        "y = f(x)\n",
        "\n",
        "plt.plot(x,y);\n",
        "# plt.show()"
      ],
      "execution_count": 10,
      "outputs": [
        {
          "output_type": "display_data",
          "data": {
            "text/plain": [
              "<Figure size 640x480 with 1 Axes>"
            ],
            "image/png": "[encoded data removed]"
          },
          "metadata": {}
        }
      ]
    },
    {
      "cell_type": "markdown",
      "metadata": {
        "id": "EI4PK884K063"
      },
      "source": [
        "Адаптивное численное интегрирование (может быть до бесконечности). `err` - оценка ошибки."
      ]
    },
    {
      "cell_type": "code",
      "metadata": {
        "id": "rMrrAR8EK063",
        "outputId": "cf743b56-0da2-4519-bb48-2484d5c69f66",
        "colab": {
          "base_uri": "https://localhost:8080/"
        }
      },
      "source": [
        "res, err = quad(f, 0, np.inf)\n",
        "print(np.sqrt(np.pi) / 2, res, err)"
      ],
      "execution_count": 11,
      "outputs": [
        {
          "output_type": "stream",
          "name": "stdout",
          "text": [
            "0.8862269254527579 0.8862269254527579 7.101318390472462e-09\n"
          ]
        }
      ]
    },
    {
      "cell_type": "code",
      "metadata": {
        "id": "nUGcUPBBK064",
        "outputId": "21f5eb5e-2522-4021-9fec-0f130c2c473c",
        "colab": {
          "base_uri": "https://localhost:8080/",
          "height": 34
        }
      },
      "source": [
        "res, err = quad(f, 0, 1)\n",
        "print(np.sqrt(np.pi) / 2 * erf(1), res, err)\n",
        "?erf"
      ],
      "execution_count": null,
      "outputs": [
        {
          "output_type": "stream",
          "text": [
            "0.7468241328124269 0.7468241328124271 8.291413475940725e-15\n"
          ],
          "name": "stdout"
        }
      ]
    },
    {
      "cell_type": "markdown",
      "metadata": {
        "id": "7gHqPZZHRV2f"
      },
      "source": [
        "## Поиграем с изображением\n",
        "Изображение - это тензор. Загрузим картинку из сети."
      ]
    },
    {
      "cell_type": "code",
      "metadata": {
        "id": "IQqrKhgjaSFD"
      },
      "source": [
        "from PIL import Image\n",
        "import requests\n",
        "from io import BytesIO\n",
        "\n",
        "url = 'https://s8.hostingkartinok.com/uploads/images/2018/08/308b49fcfbc619d629fe4604bceb67ac.jpg'\n",
        "\n",
        "response = requests.get(url)\n",
        "img = Image.open(BytesIO(response.content))"
      ],
      "execution_count": 12,
      "outputs": []
    },
    {
      "cell_type": "code",
      "metadata": {
        "id": "VvmoZT798Mjo",
        "outputId": "ccbc3cfb-6976-4f94-c916-8cc1d52e2850",
        "colab": {
          "base_uri": "https://localhost:8080/",
          "height": 34
        }
      },
      "source": [
        "type(img)"
      ],
      "execution_count": null,
      "outputs": [
        {
          "output_type": "execute_result",
          "data": {
            "text/plain": [
              "PIL.JpegImagePlugin.JpegImageFile"
            ]
          },
          "metadata": {
            "tags": []
          },
          "execution_count": 117
        }
      ]
    },
    {
      "cell_type": "markdown",
      "metadata": {
        "id": "-j48ouBxRsbJ"
      },
      "source": [
        "Код выше был скопирован с гугла и не представляет для нас большого интереса. Главное - получить изображение в формате numpy:"
      ]
    },
    {
      "cell_type": "code",
      "metadata": {
        "id": "gNvRYxevHy3N",
        "outputId": "db1f6c14-416c-40b6-b201-21c1b434c9c9",
        "colab": {
          "base_uri": "https://localhost:8080/"
        }
      },
      "source": [
        "img = np.array(img)\n",
        "img.shape"
      ],
      "execution_count": 15,
      "outputs": [
        {
          "output_type": "execute_result",
          "data": {
            "text/plain": [
              "(851, 1024, 3)"
            ]
          },
          "metadata": {},
          "execution_count": 15
        }
      ]
    },
    {
      "cell_type": "code",
      "metadata": {
        "id": "dwDVnMM5GoUl",
        "outputId": "eeef0d56-91e3-4907-ff9e-ef7dbf8164a8",
        "colab": {
          "base_uri": "https://localhost:8080/",
          "height": 452
        }
      },
      "source": [
        "from matplotlib import pyplot as plt\n",
        "plt.imshow(img)"
      ],
      "execution_count": 16,
      "outputs": [
        {
          "output_type": "execute_result",
          "data": {
            "text/plain": [
              "<matplotlib.image.AxesImage at 0x7aaa89720490>"
            ]
          },
          "metadata": {},
          "execution_count": 16
        },
        {
          "output_type": "display_data",
          "data": {
            "text/plain": [
              "<Figure size 640x480 with 1 Axes>"
            ],
            "image/png": "[encoded data removed]"
          },
          "metadata": {}
        }
      ]
    },
    {
      "cell_type": "code",
      "metadata": {
        "id": "dBD8QGRpGsQE",
        "outputId": "80e7d926-90f8-46d3-f0ae-3de71acd7f2b",
        "colab": {
          "base_uri": "https://localhost:8080/",
          "height": 452
        }
      },
      "source": [
        "img2 = img[:, :, ::-1]\n",
        "plt.imshow(img2)"
      ],
      "execution_count": 17,
      "outputs": [
        {
          "output_type": "execute_result",
          "data": {
            "text/plain": [
              "<matplotlib.image.AxesImage at 0x7aaa8978e260>"
            ]
          },
          "metadata": {},
          "execution_count": 17
        },
        {
          "output_type": "display_data",
          "data": {
            "text/plain": [
              "<Figure size 640x480 with 1 Axes>"
            ],
            "image/png": "[encoded data removed]"
          },
          "metadata": {}
        }
      ]
    },
    {
      "cell_type": "code",
      "metadata": {
        "id": "Tj1XJf5KH3y0",
        "outputId": "5969d663-ab47-4187-8ad9-9edbb33b9caa",
        "colab": {
          "base_uri": "https://localhost:8080/",
          "height": 452
        }
      },
      "source": [
        "img3 = img[:, ::-1]\n",
        "plt.imshow(img3)"
      ],
      "execution_count": 18,
      "outputs": [
        {
          "output_type": "execute_result",
          "data": {
            "text/plain": [
              "<matplotlib.image.AxesImage at 0x7aaa89661f30>"
            ]
          },
          "metadata": {},
          "execution_count": 18
        },
        {
          "output_type": "display_data",
          "data": {
            "text/plain": [
              "<Figure size 640x480 with 1 Axes>"
            ],
            "image/png": "[encoded data removed]"
          },
          "metadata": {}
        }
      ]
    },
    {
      "cell_type": "code",
      "metadata": {
        "id": "vRga1T60H7cg",
        "outputId": "fcaed1ec-83d3-4b2e-9b1a-0b21ad418f26",
        "colab": {
          "base_uri": "https://localhost:8080/"
        }
      },
      "source": [
        "batch = np.concatenate([img[None, :, :, :], img2[None, :, :, :], img3[None, :, :, :]])\n",
        "batch.shape"
      ],
      "execution_count": 19,
      "outputs": [
        {
          "output_type": "execute_result",
          "data": {
            "text/plain": [
              "(3, 851, 1024, 3)"
            ]
          },
          "metadata": {},
          "execution_count": 19
        }
      ]
    },
    {
      "cell_type": "code",
      "metadata": {
        "id": "0HSbP-ZwIEoS",
        "outputId": "62bf781c-d735-4f47-c800-06d6006e332f",
        "colab": {
          "base_uri": "https://localhost:8080/",
          "height": 452
        }
      },
      "source": [
        "img4 = img.sum(axis=2)\n",
        "plt.imshow(img4, cmap=plt.cm.gray)"
      ],
      "execution_count": 27,
      "outputs": [
        {
          "output_type": "execute_result",
          "data": {
            "text/plain": [
              "<matplotlib.image.AxesImage at 0x7aaa8939a230>"
            ]
          },
          "metadata": {},
          "execution_count": 27
        },
        {
          "output_type": "display_data",
          "data": {
            "text/plain": [
              "<Figure size 640x480 with 1 Axes>"
            ],
            "image/png": "[encoded data removed]"
          },
          "metadata": {}
        }
      ]
    },
    {
      "cell_type": "code",
      "metadata": {
        "id": "ymtoMMel8XjG",
        "outputId": "f6ca32d4-204c-4080-d24b-919d3a798fd8",
        "colab": {
          "base_uri": "https://localhost:8080/",
          "height": 34
        }
      },
      "source": [
        "img4.shape"
      ],
      "execution_count": null,
      "outputs": [
        {
          "output_type": "execute_result",
          "data": {
            "text/plain": [
              "(851, 1024)"
            ]
          },
          "metadata": {
            "tags": []
          },
          "execution_count": 124
        }
      ]
    },
    {
      "cell_type": "markdown",
      "metadata": {
        "id": "JqUN04vPK065"
      },
      "source": [
        "## Список материалов для самостоятельного изучения"
      ]
    },
    {
      "cell_type": "markdown",
      "metadata": {
        "id": "a6m68ZUgK065"
      },
      "source": [
        "*Статья на Хабре по основам NumPy - https://habr.com/post/121031/*  \n",
        "\n",
        "*100 задач по NumPy для любителей посидеть вечерком за чашечкой программирования* - https://pythonworld.ru/numpy/100-exercises.html  \n",
        "\n",
        "*Очень крутой, продвинутый ноутбук по NumPy* - https://nbviewer.jupyter.org/github/vlad17/np-learn/blob/master/presentation.ipynb\n",
        "\n",
        "*Штука, которая вам в будущем может пригодиться ;)* - https://stackoverflow.com/questions/27948363/numpy-broadcast-to-perform-euclidean-distance-vectorized/35814006  \n",
        "\n",
        "*Лекции по SciPy и NumPy* - http://www.scipy-lectures.org/index.html"
      ]
    }
  ]
}